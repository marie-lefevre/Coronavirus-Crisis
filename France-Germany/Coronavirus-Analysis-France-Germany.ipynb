{
 "cells": [
  {
   "cell_type": "markdown",
   "metadata": {},
   "source": [
    "# How Are France and Germany Handling the Coronavirus Crisis? \n",
    "# Perspective from a Germany-based French Woman"
   ]
  },
  {
   "cell_type": "markdown",
   "metadata": {},
   "source": [
    "This piece of code was used for writing the following article:\n",
    "https://medium.com/@marie.lefevre/how-are-france-and-germany-handling-the-coronavirus-crisis-20c8cb5d3690\n"
   ]
  },
  {
   "cell_type": "markdown",
   "metadata": {},
   "source": [
    "## Import packages and datasets"
   ]
  },
  {
   "cell_type": "code",
   "execution_count": 1,
   "metadata": {},
   "outputs": [],
   "source": [
    "# Import packages\n",
    "import matplotlib.pyplot as plt\n",
    "import pandas as pd\n",
    "import numpy as np\n",
    "import datetime as dt\n",
    "import plotly.express as px\n",
    "%matplotlib notebook\n",
    "\n",
    "# Import datasets\n",
    "url_frde = \"https://raw.githubusercontent.com/marie-lefevre/Coronavirus-Crisis/master/France-Germany/corona_frde_csv.csv\"\n",
    "corona_frde = pd.read_csv(url_frde, error_bad_lines=False)\n",
    "url_eu_part = \"https://raw.githubusercontent.com/marie-lefevre/Coronavirus-Crisis/master/France-Germany/corona_eu_part_csv.csv\"\n",
    "corona_eu_part = pd.read_csv(url_eu_part, error_bad_lines=False)\n",
    "df_frde = corona_frde.copy()\n",
    "df_frde[\"Date\"] = df_frde[\"Date\"].apply(lambda x: \n",
    "                                    dt.datetime.strptime(x,'%d/%m/%Y'))\n",
    "df_eu_part = corona_eu_part.copy()"
   ]
  },
  {
   "cell_type": "markdown",
   "metadata": {},
   "source": [
    "## Chart 1: Number of Coronavirus Cases in France and Germany"
   ]
  },
  {
   "cell_type": "code",
   "execution_count": 2,
   "metadata": {},
   "outputs": [
    {
     "data": {
      "application/javascript": [
       "/* Put everything inside the global mpl namespace */\n",
       "window.mpl = {};\n",
       "\n",
       "\n",
       "mpl.get_websocket_type = function() {\n",
       "    if (typeof(WebSocket) !== 'undefined') {\n",
       "        return WebSocket;\n",
       "    } else if (typeof(MozWebSocket) !== 'undefined') {\n",
       "        return MozWebSocket;\n",
       "    } else {\n",
       "        alert('Your browser does not have WebSocket support. ' +\n",
       "              'Please try Chrome, Safari or Firefox ≥ 6. ' +\n",
       "              'Firefox 4 and 5 are also supported but you ' +\n",
       "              'have to enable WebSockets in about:config.');\n",
       "    };\n",
       "}\n",
       "\n",
       "mpl.figure = function(figure_id, websocket, ondownload, parent_element) {\n",
       "    this.id = figure_id;\n",
       "\n",
       "    this.ws = websocket;\n",
       "\n",
       "    this.supports_binary = (this.ws.binaryType != undefined);\n",
       "\n",
       "    if (!this.supports_binary) {\n",
       "        var warnings = document.getElementById(\"mpl-warnings\");\n",
       "        if (warnings) {\n",
       "            warnings.style.display = 'block';\n",
       "            warnings.textContent = (\n",
       "                \"This browser does not support binary websocket messages. \" +\n",
       "                    \"Performance may be slow.\");\n",
       "        }\n",
       "    }\n",
       "\n",
       "    this.imageObj = new Image();\n",
       "\n",
       "    this.context = undefined;\n",
       "    this.message = undefined;\n",
       "    this.canvas = undefined;\n",
       "    this.rubberband_canvas = undefined;\n",
       "    this.rubberband_context = undefined;\n",
       "    this.format_dropdown = undefined;\n",
       "\n",
       "    this.image_mode = 'full';\n",
       "\n",
       "    this.root = $('<div/>');\n",
       "    this._root_extra_style(this.root)\n",
       "    this.root.attr('style', 'display: inline-block');\n",
       "\n",
       "    $(parent_element).append(this.root);\n",
       "\n",
       "    this._init_header(this);\n",
       "    this._init_canvas(this);\n",
       "    this._init_toolbar(this);\n",
       "\n",
       "    var fig = this;\n",
       "\n",
       "    this.waiting = false;\n",
       "\n",
       "    this.ws.onopen =  function () {\n",
       "            fig.send_message(\"supports_binary\", {value: fig.supports_binary});\n",
       "            fig.send_message(\"send_image_mode\", {});\n",
       "            if (mpl.ratio != 1) {\n",
       "                fig.send_message(\"set_dpi_ratio\", {'dpi_ratio': mpl.ratio});\n",
       "            }\n",
       "            fig.send_message(\"refresh\", {});\n",
       "        }\n",
       "\n",
       "    this.imageObj.onload = function() {\n",
       "            if (fig.image_mode == 'full') {\n",
       "                // Full images could contain transparency (where diff images\n",
       "                // almost always do), so we need to clear the canvas so that\n",
       "                // there is no ghosting.\n",
       "                fig.context.clearRect(0, 0, fig.canvas.width, fig.canvas.height);\n",
       "            }\n",
       "            fig.context.drawImage(fig.imageObj, 0, 0);\n",
       "        };\n",
       "\n",
       "    this.imageObj.onunload = function() {\n",
       "        fig.ws.close();\n",
       "    }\n",
       "\n",
       "    this.ws.onmessage = this._make_on_message_function(this);\n",
       "\n",
       "    this.ondownload = ondownload;\n",
       "}\n",
       "\n",
       "mpl.figure.prototype._init_header = function() {\n",
       "    var titlebar = $(\n",
       "        '<div class=\"ui-dialog-titlebar ui-widget-header ui-corner-all ' +\n",
       "        'ui-helper-clearfix\"/>');\n",
       "    var titletext = $(\n",
       "        '<div class=\"ui-dialog-title\" style=\"width: 100%; ' +\n",
       "        'text-align: center; padding: 3px;\"/>');\n",
       "    titlebar.append(titletext)\n",
       "    this.root.append(titlebar);\n",
       "    this.header = titletext[0];\n",
       "}\n",
       "\n",
       "\n",
       "\n",
       "mpl.figure.prototype._canvas_extra_style = function(canvas_div) {\n",
       "\n",
       "}\n",
       "\n",
       "\n",
       "mpl.figure.prototype._root_extra_style = function(canvas_div) {\n",
       "\n",
       "}\n",
       "\n",
       "mpl.figure.prototype._init_canvas = function() {\n",
       "    var fig = this;\n",
       "\n",
       "    var canvas_div = $('<div/>');\n",
       "\n",
       "    canvas_div.attr('style', 'position: relative; clear: both; outline: 0');\n",
       "\n",
       "    function canvas_keyboard_event(event) {\n",
       "        return fig.key_event(event, event['data']);\n",
       "    }\n",
       "\n",
       "    canvas_div.keydown('key_press', canvas_keyboard_event);\n",
       "    canvas_div.keyup('key_release', canvas_keyboard_event);\n",
       "    this.canvas_div = canvas_div\n",
       "    this._canvas_extra_style(canvas_div)\n",
       "    this.root.append(canvas_div);\n",
       "\n",
       "    var canvas = $('<canvas/>');\n",
       "    canvas.addClass('mpl-canvas');\n",
       "    canvas.attr('style', \"left: 0; top: 0; z-index: 0; outline: 0\")\n",
       "\n",
       "    this.canvas = canvas[0];\n",
       "    this.context = canvas[0].getContext(\"2d\");\n",
       "\n",
       "    var backingStore = this.context.backingStorePixelRatio ||\n",
       "\tthis.context.webkitBackingStorePixelRatio ||\n",
       "\tthis.context.mozBackingStorePixelRatio ||\n",
       "\tthis.context.msBackingStorePixelRatio ||\n",
       "\tthis.context.oBackingStorePixelRatio ||\n",
       "\tthis.context.backingStorePixelRatio || 1;\n",
       "\n",
       "    mpl.ratio = (window.devicePixelRatio || 1) / backingStore;\n",
       "\n",
       "    var rubberband = $('<canvas/>');\n",
       "    rubberband.attr('style', \"position: absolute; left: 0; top: 0; z-index: 1;\")\n",
       "\n",
       "    var pass_mouse_events = true;\n",
       "\n",
       "    canvas_div.resizable({\n",
       "        start: function(event, ui) {\n",
       "            pass_mouse_events = false;\n",
       "        },\n",
       "        resize: function(event, ui) {\n",
       "            fig.request_resize(ui.size.width, ui.size.height);\n",
       "        },\n",
       "        stop: function(event, ui) {\n",
       "            pass_mouse_events = true;\n",
       "            fig.request_resize(ui.size.width, ui.size.height);\n",
       "        },\n",
       "    });\n",
       "\n",
       "    function mouse_event_fn(event) {\n",
       "        if (pass_mouse_events)\n",
       "            return fig.mouse_event(event, event['data']);\n",
       "    }\n",
       "\n",
       "    rubberband.mousedown('button_press', mouse_event_fn);\n",
       "    rubberband.mouseup('button_release', mouse_event_fn);\n",
       "    // Throttle sequential mouse events to 1 every 20ms.\n",
       "    rubberband.mousemove('motion_notify', mouse_event_fn);\n",
       "\n",
       "    rubberband.mouseenter('figure_enter', mouse_event_fn);\n",
       "    rubberband.mouseleave('figure_leave', mouse_event_fn);\n",
       "\n",
       "    canvas_div.on(\"wheel\", function (event) {\n",
       "        event = event.originalEvent;\n",
       "        event['data'] = 'scroll'\n",
       "        if (event.deltaY < 0) {\n",
       "            event.step = 1;\n",
       "        } else {\n",
       "            event.step = -1;\n",
       "        }\n",
       "        mouse_event_fn(event);\n",
       "    });\n",
       "\n",
       "    canvas_div.append(canvas);\n",
       "    canvas_div.append(rubberband);\n",
       "\n",
       "    this.rubberband = rubberband;\n",
       "    this.rubberband_canvas = rubberband[0];\n",
       "    this.rubberband_context = rubberband[0].getContext(\"2d\");\n",
       "    this.rubberband_context.strokeStyle = \"#000000\";\n",
       "\n",
       "    this._resize_canvas = function(width, height) {\n",
       "        // Keep the size of the canvas, canvas container, and rubber band\n",
       "        // canvas in synch.\n",
       "        canvas_div.css('width', width)\n",
       "        canvas_div.css('height', height)\n",
       "\n",
       "        canvas.attr('width', width * mpl.ratio);\n",
       "        canvas.attr('height', height * mpl.ratio);\n",
       "        canvas.attr('style', 'width: ' + width + 'px; height: ' + height + 'px;');\n",
       "\n",
       "        rubberband.attr('width', width);\n",
       "        rubberband.attr('height', height);\n",
       "    }\n",
       "\n",
       "    // Set the figure to an initial 600x600px, this will subsequently be updated\n",
       "    // upon first draw.\n",
       "    this._resize_canvas(600, 600);\n",
       "\n",
       "    // Disable right mouse context menu.\n",
       "    $(this.rubberband_canvas).bind(\"contextmenu\",function(e){\n",
       "        return false;\n",
       "    });\n",
       "\n",
       "    function set_focus () {\n",
       "        canvas.focus();\n",
       "        canvas_div.focus();\n",
       "    }\n",
       "\n",
       "    window.setTimeout(set_focus, 100);\n",
       "}\n",
       "\n",
       "mpl.figure.prototype._init_toolbar = function() {\n",
       "    var fig = this;\n",
       "\n",
       "    var nav_element = $('<div/>');\n",
       "    nav_element.attr('style', 'width: 100%');\n",
       "    this.root.append(nav_element);\n",
       "\n",
       "    // Define a callback function for later on.\n",
       "    function toolbar_event(event) {\n",
       "        return fig.toolbar_button_onclick(event['data']);\n",
       "    }\n",
       "    function toolbar_mouse_event(event) {\n",
       "        return fig.toolbar_button_onmouseover(event['data']);\n",
       "    }\n",
       "\n",
       "    for(var toolbar_ind in mpl.toolbar_items) {\n",
       "        var name = mpl.toolbar_items[toolbar_ind][0];\n",
       "        var tooltip = mpl.toolbar_items[toolbar_ind][1];\n",
       "        var image = mpl.toolbar_items[toolbar_ind][2];\n",
       "        var method_name = mpl.toolbar_items[toolbar_ind][3];\n",
       "\n",
       "        if (!name) {\n",
       "            // put a spacer in here.\n",
       "            continue;\n",
       "        }\n",
       "        var button = $('<button/>');\n",
       "        button.addClass('ui-button ui-widget ui-state-default ui-corner-all ' +\n",
       "                        'ui-button-icon-only');\n",
       "        button.attr('role', 'button');\n",
       "        button.attr('aria-disabled', 'false');\n",
       "        button.click(method_name, toolbar_event);\n",
       "        button.mouseover(tooltip, toolbar_mouse_event);\n",
       "\n",
       "        var icon_img = $('<span/>');\n",
       "        icon_img.addClass('ui-button-icon-primary ui-icon');\n",
       "        icon_img.addClass(image);\n",
       "        icon_img.addClass('ui-corner-all');\n",
       "\n",
       "        var tooltip_span = $('<span/>');\n",
       "        tooltip_span.addClass('ui-button-text');\n",
       "        tooltip_span.html(tooltip);\n",
       "\n",
       "        button.append(icon_img);\n",
       "        button.append(tooltip_span);\n",
       "\n",
       "        nav_element.append(button);\n",
       "    }\n",
       "\n",
       "    var fmt_picker_span = $('<span/>');\n",
       "\n",
       "    var fmt_picker = $('<select/>');\n",
       "    fmt_picker.addClass('mpl-toolbar-option ui-widget ui-widget-content');\n",
       "    fmt_picker_span.append(fmt_picker);\n",
       "    nav_element.append(fmt_picker_span);\n",
       "    this.format_dropdown = fmt_picker[0];\n",
       "\n",
       "    for (var ind in mpl.extensions) {\n",
       "        var fmt = mpl.extensions[ind];\n",
       "        var option = $(\n",
       "            '<option/>', {selected: fmt === mpl.default_extension}).html(fmt);\n",
       "        fmt_picker.append(option);\n",
       "    }\n",
       "\n",
       "    // Add hover states to the ui-buttons\n",
       "    $( \".ui-button\" ).hover(\n",
       "        function() { $(this).addClass(\"ui-state-hover\");},\n",
       "        function() { $(this).removeClass(\"ui-state-hover\");}\n",
       "    );\n",
       "\n",
       "    var status_bar = $('<span class=\"mpl-message\"/>');\n",
       "    nav_element.append(status_bar);\n",
       "    this.message = status_bar[0];\n",
       "}\n",
       "\n",
       "mpl.figure.prototype.request_resize = function(x_pixels, y_pixels) {\n",
       "    // Request matplotlib to resize the figure. Matplotlib will then trigger a resize in the client,\n",
       "    // which will in turn request a refresh of the image.\n",
       "    this.send_message('resize', {'width': x_pixels, 'height': y_pixels});\n",
       "}\n",
       "\n",
       "mpl.figure.prototype.send_message = function(type, properties) {\n",
       "    properties['type'] = type;\n",
       "    properties['figure_id'] = this.id;\n",
       "    this.ws.send(JSON.stringify(properties));\n",
       "}\n",
       "\n",
       "mpl.figure.prototype.send_draw_message = function() {\n",
       "    if (!this.waiting) {\n",
       "        this.waiting = true;\n",
       "        this.ws.send(JSON.stringify({type: \"draw\", figure_id: this.id}));\n",
       "    }\n",
       "}\n",
       "\n",
       "\n",
       "mpl.figure.prototype.handle_save = function(fig, msg) {\n",
       "    var format_dropdown = fig.format_dropdown;\n",
       "    var format = format_dropdown.options[format_dropdown.selectedIndex].value;\n",
       "    fig.ondownload(fig, format);\n",
       "}\n",
       "\n",
       "\n",
       "mpl.figure.prototype.handle_resize = function(fig, msg) {\n",
       "    var size = msg['size'];\n",
       "    if (size[0] != fig.canvas.width || size[1] != fig.canvas.height) {\n",
       "        fig._resize_canvas(size[0], size[1]);\n",
       "        fig.send_message(\"refresh\", {});\n",
       "    };\n",
       "}\n",
       "\n",
       "mpl.figure.prototype.handle_rubberband = function(fig, msg) {\n",
       "    var x0 = msg['x0'] / mpl.ratio;\n",
       "    var y0 = (fig.canvas.height - msg['y0']) / mpl.ratio;\n",
       "    var x1 = msg['x1'] / mpl.ratio;\n",
       "    var y1 = (fig.canvas.height - msg['y1']) / mpl.ratio;\n",
       "    x0 = Math.floor(x0) + 0.5;\n",
       "    y0 = Math.floor(y0) + 0.5;\n",
       "    x1 = Math.floor(x1) + 0.5;\n",
       "    y1 = Math.floor(y1) + 0.5;\n",
       "    var min_x = Math.min(x0, x1);\n",
       "    var min_y = Math.min(y0, y1);\n",
       "    var width = Math.abs(x1 - x0);\n",
       "    var height = Math.abs(y1 - y0);\n",
       "\n",
       "    fig.rubberband_context.clearRect(\n",
       "        0, 0, fig.canvas.width / mpl.ratio, fig.canvas.height / mpl.ratio);\n",
       "\n",
       "    fig.rubberband_context.strokeRect(min_x, min_y, width, height);\n",
       "}\n",
       "\n",
       "mpl.figure.prototype.handle_figure_label = function(fig, msg) {\n",
       "    // Updates the figure title.\n",
       "    fig.header.textContent = msg['label'];\n",
       "}\n",
       "\n",
       "mpl.figure.prototype.handle_cursor = function(fig, msg) {\n",
       "    var cursor = msg['cursor'];\n",
       "    switch(cursor)\n",
       "    {\n",
       "    case 0:\n",
       "        cursor = 'pointer';\n",
       "        break;\n",
       "    case 1:\n",
       "        cursor = 'default';\n",
       "        break;\n",
       "    case 2:\n",
       "        cursor = 'crosshair';\n",
       "        break;\n",
       "    case 3:\n",
       "        cursor = 'move';\n",
       "        break;\n",
       "    }\n",
       "    fig.rubberband_canvas.style.cursor = cursor;\n",
       "}\n",
       "\n",
       "mpl.figure.prototype.handle_message = function(fig, msg) {\n",
       "    fig.message.textContent = msg['message'];\n",
       "}\n",
       "\n",
       "mpl.figure.prototype.handle_draw = function(fig, msg) {\n",
       "    // Request the server to send over a new figure.\n",
       "    fig.send_draw_message();\n",
       "}\n",
       "\n",
       "mpl.figure.prototype.handle_image_mode = function(fig, msg) {\n",
       "    fig.image_mode = msg['mode'];\n",
       "}\n",
       "\n",
       "mpl.figure.prototype.updated_canvas_event = function() {\n",
       "    // Called whenever the canvas gets updated.\n",
       "    this.send_message(\"ack\", {});\n",
       "}\n",
       "\n",
       "// A function to construct a web socket function for onmessage handling.\n",
       "// Called in the figure constructor.\n",
       "mpl.figure.prototype._make_on_message_function = function(fig) {\n",
       "    return function socket_on_message(evt) {\n",
       "        if (evt.data instanceof Blob) {\n",
       "            /* FIXME: We get \"Resource interpreted as Image but\n",
       "             * transferred with MIME type text/plain:\" errors on\n",
       "             * Chrome.  But how to set the MIME type?  It doesn't seem\n",
       "             * to be part of the websocket stream */\n",
       "            evt.data.type = \"image/png\";\n",
       "\n",
       "            /* Free the memory for the previous frames */\n",
       "            if (fig.imageObj.src) {\n",
       "                (window.URL || window.webkitURL).revokeObjectURL(\n",
       "                    fig.imageObj.src);\n",
       "            }\n",
       "\n",
       "            fig.imageObj.src = (window.URL || window.webkitURL).createObjectURL(\n",
       "                evt.data);\n",
       "            fig.updated_canvas_event();\n",
       "            fig.waiting = false;\n",
       "            return;\n",
       "        }\n",
       "        else if (typeof evt.data === 'string' && evt.data.slice(0, 21) == \"data:image/png;base64\") {\n",
       "            fig.imageObj.src = evt.data;\n",
       "            fig.updated_canvas_event();\n",
       "            fig.waiting = false;\n",
       "            return;\n",
       "        }\n",
       "\n",
       "        var msg = JSON.parse(evt.data);\n",
       "        var msg_type = msg['type'];\n",
       "\n",
       "        // Call the  \"handle_{type}\" callback, which takes\n",
       "        // the figure and JSON message as its only arguments.\n",
       "        try {\n",
       "            var callback = fig[\"handle_\" + msg_type];\n",
       "        } catch (e) {\n",
       "            console.log(\"No handler for the '\" + msg_type + \"' message type: \", msg);\n",
       "            return;\n",
       "        }\n",
       "\n",
       "        if (callback) {\n",
       "            try {\n",
       "                // console.log(\"Handling '\" + msg_type + \"' message: \", msg);\n",
       "                callback(fig, msg);\n",
       "            } catch (e) {\n",
       "                console.log(\"Exception inside the 'handler_\" + msg_type + \"' callback:\", e, e.stack, msg);\n",
       "            }\n",
       "        }\n",
       "    };\n",
       "}\n",
       "\n",
       "// from http://stackoverflow.com/questions/1114465/getting-mouse-location-in-canvas\n",
       "mpl.findpos = function(e) {\n",
       "    //this section is from http://www.quirksmode.org/js/events_properties.html\n",
       "    var targ;\n",
       "    if (!e)\n",
       "        e = window.event;\n",
       "    if (e.target)\n",
       "        targ = e.target;\n",
       "    else if (e.srcElement)\n",
       "        targ = e.srcElement;\n",
       "    if (targ.nodeType == 3) // defeat Safari bug\n",
       "        targ = targ.parentNode;\n",
       "\n",
       "    // jQuery normalizes the pageX and pageY\n",
       "    // pageX,Y are the mouse positions relative to the document\n",
       "    // offset() returns the position of the element relative to the document\n",
       "    var x = e.pageX - $(targ).offset().left;\n",
       "    var y = e.pageY - $(targ).offset().top;\n",
       "\n",
       "    return {\"x\": x, \"y\": y};\n",
       "};\n",
       "\n",
       "/*\n",
       " * return a copy of an object with only non-object keys\n",
       " * we need this to avoid circular references\n",
       " * http://stackoverflow.com/a/24161582/3208463\n",
       " */\n",
       "function simpleKeys (original) {\n",
       "  return Object.keys(original).reduce(function (obj, key) {\n",
       "    if (typeof original[key] !== 'object')\n",
       "        obj[key] = original[key]\n",
       "    return obj;\n",
       "  }, {});\n",
       "}\n",
       "\n",
       "mpl.figure.prototype.mouse_event = function(event, name) {\n",
       "    var canvas_pos = mpl.findpos(event)\n",
       "\n",
       "    if (name === 'button_press')\n",
       "    {\n",
       "        this.canvas.focus();\n",
       "        this.canvas_div.focus();\n",
       "    }\n",
       "\n",
       "    var x = canvas_pos.x * mpl.ratio;\n",
       "    var y = canvas_pos.y * mpl.ratio;\n",
       "\n",
       "    this.send_message(name, {x: x, y: y, button: event.button,\n",
       "                             step: event.step,\n",
       "                             guiEvent: simpleKeys(event)});\n",
       "\n",
       "    /* This prevents the web browser from automatically changing to\n",
       "     * the text insertion cursor when the button is pressed.  We want\n",
       "     * to control all of the cursor setting manually through the\n",
       "     * 'cursor' event from matplotlib */\n",
       "    event.preventDefault();\n",
       "    return false;\n",
       "}\n",
       "\n",
       "mpl.figure.prototype._key_event_extra = function(event, name) {\n",
       "    // Handle any extra behaviour associated with a key event\n",
       "}\n",
       "\n",
       "mpl.figure.prototype.key_event = function(event, name) {\n",
       "\n",
       "    // Prevent repeat events\n",
       "    if (name == 'key_press')\n",
       "    {\n",
       "        if (event.which === this._key)\n",
       "            return;\n",
       "        else\n",
       "            this._key = event.which;\n",
       "    }\n",
       "    if (name == 'key_release')\n",
       "        this._key = null;\n",
       "\n",
       "    var value = '';\n",
       "    if (event.ctrlKey && event.which != 17)\n",
       "        value += \"ctrl+\";\n",
       "    if (event.altKey && event.which != 18)\n",
       "        value += \"alt+\";\n",
       "    if (event.shiftKey && event.which != 16)\n",
       "        value += \"shift+\";\n",
       "\n",
       "    value += 'k';\n",
       "    value += event.which.toString();\n",
       "\n",
       "    this._key_event_extra(event, name);\n",
       "\n",
       "    this.send_message(name, {key: value,\n",
       "                             guiEvent: simpleKeys(event)});\n",
       "    return false;\n",
       "}\n",
       "\n",
       "mpl.figure.prototype.toolbar_button_onclick = function(name) {\n",
       "    if (name == 'download') {\n",
       "        this.handle_save(this, null);\n",
       "    } else {\n",
       "        this.send_message(\"toolbar_button\", {name: name});\n",
       "    }\n",
       "};\n",
       "\n",
       "mpl.figure.prototype.toolbar_button_onmouseover = function(tooltip) {\n",
       "    this.message.textContent = tooltip;\n",
       "};\n",
       "mpl.toolbar_items = [[\"Home\", \"Reset original view\", \"fa fa-home icon-home\", \"home\"], [\"Back\", \"Back to previous view\", \"fa fa-arrow-left icon-arrow-left\", \"back\"], [\"Forward\", \"Forward to next view\", \"fa fa-arrow-right icon-arrow-right\", \"forward\"], [\"\", \"\", \"\", \"\"], [\"Pan\", \"Pan axes with left mouse, zoom with right\", \"fa fa-arrows icon-move\", \"pan\"], [\"Zoom\", \"Zoom to rectangle\", \"fa fa-square-o icon-check-empty\", \"zoom\"], [\"\", \"\", \"\", \"\"], [\"Download\", \"Download plot\", \"fa fa-floppy-o icon-save\", \"download\"]];\n",
       "\n",
       "mpl.extensions = [\"eps\", \"jpeg\", \"pdf\", \"png\", \"ps\", \"raw\", \"svg\", \"tif\"];\n",
       "\n",
       "mpl.default_extension = \"png\";var comm_websocket_adapter = function(comm) {\n",
       "    // Create a \"websocket\"-like object which calls the given IPython comm\n",
       "    // object with the appropriate methods. Currently this is a non binary\n",
       "    // socket, so there is still some room for performance tuning.\n",
       "    var ws = {};\n",
       "\n",
       "    ws.close = function() {\n",
       "        comm.close()\n",
       "    };\n",
       "    ws.send = function(m) {\n",
       "        //console.log('sending', m);\n",
       "        comm.send(m);\n",
       "    };\n",
       "    // Register the callback with on_msg.\n",
       "    comm.on_msg(function(msg) {\n",
       "        //console.log('receiving', msg['content']['data'], msg);\n",
       "        // Pass the mpl event to the overridden (by mpl) onmessage function.\n",
       "        ws.onmessage(msg['content']['data'])\n",
       "    });\n",
       "    return ws;\n",
       "}\n",
       "\n",
       "mpl.mpl_figure_comm = function(comm, msg) {\n",
       "    // This is the function which gets called when the mpl process\n",
       "    // starts-up an IPython Comm through the \"matplotlib\" channel.\n",
       "\n",
       "    var id = msg.content.data.id;\n",
       "    // Get hold of the div created by the display call when the Comm\n",
       "    // socket was opened in Python.\n",
       "    var element = $(\"#\" + id);\n",
       "    var ws_proxy = comm_websocket_adapter(comm)\n",
       "\n",
       "    function ondownload(figure, format) {\n",
       "        window.open(figure.imageObj.src);\n",
       "    }\n",
       "\n",
       "    var fig = new mpl.figure(id, ws_proxy,\n",
       "                           ondownload,\n",
       "                           element.get(0));\n",
       "\n",
       "    // Call onopen now - mpl needs it, as it is assuming we've passed it a real\n",
       "    // web socket which is closed, not our websocket->open comm proxy.\n",
       "    ws_proxy.onopen();\n",
       "\n",
       "    fig.parent_element = element.get(0);\n",
       "    fig.cell_info = mpl.find_output_cell(\"<div id='\" + id + \"'></div>\");\n",
       "    if (!fig.cell_info) {\n",
       "        console.error(\"Failed to find cell for figure\", id, fig);\n",
       "        return;\n",
       "    }\n",
       "\n",
       "    var output_index = fig.cell_info[2]\n",
       "    var cell = fig.cell_info[0];\n",
       "\n",
       "};\n",
       "\n",
       "mpl.figure.prototype.handle_close = function(fig, msg) {\n",
       "    var width = fig.canvas.width/mpl.ratio\n",
       "    fig.root.unbind('remove')\n",
       "\n",
       "    // Update the output cell to use the data from the current canvas.\n",
       "    fig.push_to_output();\n",
       "    var dataURL = fig.canvas.toDataURL();\n",
       "    // Re-enable the keyboard manager in IPython - without this line, in FF,\n",
       "    // the notebook keyboard shortcuts fail.\n",
       "    IPython.keyboard_manager.enable()\n",
       "    $(fig.parent_element).html('<img src=\"' + dataURL + '\" width=\"' + width + '\">');\n",
       "    fig.close_ws(fig, msg);\n",
       "}\n",
       "\n",
       "mpl.figure.prototype.close_ws = function(fig, msg){\n",
       "    fig.send_message('closing', msg);\n",
       "    // fig.ws.close()\n",
       "}\n",
       "\n",
       "mpl.figure.prototype.push_to_output = function(remove_interactive) {\n",
       "    // Turn the data on the canvas into data in the output cell.\n",
       "    var width = this.canvas.width/mpl.ratio\n",
       "    var dataURL = this.canvas.toDataURL();\n",
       "    this.cell_info[1]['text/html'] = '<img src=\"' + dataURL + '\" width=\"' + width + '\">';\n",
       "}\n",
       "\n",
       "mpl.figure.prototype.updated_canvas_event = function() {\n",
       "    // Tell IPython that the notebook contents must change.\n",
       "    IPython.notebook.set_dirty(true);\n",
       "    this.send_message(\"ack\", {});\n",
       "    var fig = this;\n",
       "    // Wait a second, then push the new image to the DOM so\n",
       "    // that it is saved nicely (might be nice to debounce this).\n",
       "    setTimeout(function () { fig.push_to_output() }, 1000);\n",
       "}\n",
       "\n",
       "mpl.figure.prototype._init_toolbar = function() {\n",
       "    var fig = this;\n",
       "\n",
       "    var nav_element = $('<div/>');\n",
       "    nav_element.attr('style', 'width: 100%');\n",
       "    this.root.append(nav_element);\n",
       "\n",
       "    // Define a callback function for later on.\n",
       "    function toolbar_event(event) {\n",
       "        return fig.toolbar_button_onclick(event['data']);\n",
       "    }\n",
       "    function toolbar_mouse_event(event) {\n",
       "        return fig.toolbar_button_onmouseover(event['data']);\n",
       "    }\n",
       "\n",
       "    for(var toolbar_ind in mpl.toolbar_items){\n",
       "        var name = mpl.toolbar_items[toolbar_ind][0];\n",
       "        var tooltip = mpl.toolbar_items[toolbar_ind][1];\n",
       "        var image = mpl.toolbar_items[toolbar_ind][2];\n",
       "        var method_name = mpl.toolbar_items[toolbar_ind][3];\n",
       "\n",
       "        if (!name) { continue; };\n",
       "\n",
       "        var button = $('<button class=\"btn btn-default\" href=\"#\" title=\"' + name + '\"><i class=\"fa ' + image + ' fa-lg\"></i></button>');\n",
       "        button.click(method_name, toolbar_event);\n",
       "        button.mouseover(tooltip, toolbar_mouse_event);\n",
       "        nav_element.append(button);\n",
       "    }\n",
       "\n",
       "    // Add the status bar.\n",
       "    var status_bar = $('<span class=\"mpl-message\" style=\"text-align:right; float: right;\"/>');\n",
       "    nav_element.append(status_bar);\n",
       "    this.message = status_bar[0];\n",
       "\n",
       "    // Add the close button to the window.\n",
       "    var buttongrp = $('<div class=\"btn-group inline pull-right\"></div>');\n",
       "    var button = $('<button class=\"btn btn-mini btn-primary\" href=\"#\" title=\"Stop Interaction\"><i class=\"fa fa-power-off icon-remove icon-large\"></i></button>');\n",
       "    button.click(function (evt) { fig.handle_close(fig, {}); } );\n",
       "    button.mouseover('Stop Interaction', toolbar_mouse_event);\n",
       "    buttongrp.append(button);\n",
       "    var titlebar = this.root.find($('.ui-dialog-titlebar'));\n",
       "    titlebar.prepend(buttongrp);\n",
       "}\n",
       "\n",
       "mpl.figure.prototype._root_extra_style = function(el){\n",
       "    var fig = this\n",
       "    el.on(\"remove\", function(){\n",
       "\tfig.close_ws(fig, {});\n",
       "    });\n",
       "}\n",
       "\n",
       "mpl.figure.prototype._canvas_extra_style = function(el){\n",
       "    // this is important to make the div 'focusable\n",
       "    el.attr('tabindex', 0)\n",
       "    // reach out to IPython and tell the keyboard manager to turn it's self\n",
       "    // off when our div gets focus\n",
       "\n",
       "    // location in version 3\n",
       "    if (IPython.notebook.keyboard_manager) {\n",
       "        IPython.notebook.keyboard_manager.register_events(el);\n",
       "    }\n",
       "    else {\n",
       "        // location in version 2\n",
       "        IPython.keyboard_manager.register_events(el);\n",
       "    }\n",
       "\n",
       "}\n",
       "\n",
       "mpl.figure.prototype._key_event_extra = function(event, name) {\n",
       "    var manager = IPython.notebook.keyboard_manager;\n",
       "    if (!manager)\n",
       "        manager = IPython.keyboard_manager;\n",
       "\n",
       "    // Check for shift+enter\n",
       "    if (event.shiftKey && event.which == 13) {\n",
       "        this.canvas_div.blur();\n",
       "        // select the cell after this one\n",
       "        var index = IPython.notebook.find_cell_index(this.cell_info[0]);\n",
       "        IPython.notebook.select(index + 1);\n",
       "    }\n",
       "}\n",
       "\n",
       "mpl.figure.prototype.handle_save = function(fig, msg) {\n",
       "    fig.ondownload(fig, null);\n",
       "}\n",
       "\n",
       "\n",
       "mpl.find_output_cell = function(html_output) {\n",
       "    // Return the cell and output element which can be found *uniquely* in the notebook.\n",
       "    // Note - this is a bit hacky, but it is done because the \"notebook_saving.Notebook\"\n",
       "    // IPython event is triggered only after the cells have been serialised, which for\n",
       "    // our purposes (turning an active figure into a static one), is too late.\n",
       "    var cells = IPython.notebook.get_cells();\n",
       "    var ncells = cells.length;\n",
       "    for (var i=0; i<ncells; i++) {\n",
       "        var cell = cells[i];\n",
       "        if (cell.cell_type === 'code'){\n",
       "            for (var j=0; j<cell.output_area.outputs.length; j++) {\n",
       "                var data = cell.output_area.outputs[j];\n",
       "                if (data.data) {\n",
       "                    // IPython >= 3 moved mimebundle to data attribute of output\n",
       "                    data = data.data;\n",
       "                }\n",
       "                if (data['text/html'] == html_output) {\n",
       "                    return [cell, data, j];\n",
       "                }\n",
       "            }\n",
       "        }\n",
       "    }\n",
       "}\n",
       "\n",
       "// Register the function which deals with the matplotlib target/channel.\n",
       "// The kernel may be null if the page has been refreshed.\n",
       "if (IPython.notebook.kernel != null) {\n",
       "    IPython.notebook.kernel.comm_manager.register_target('matplotlib', mpl.mpl_figure_comm);\n",
       "}\n"
      ],
      "text/plain": [
       "<IPython.core.display.Javascript object>"
      ]
     },
     "metadata": {},
     "output_type": "display_data"
    },
    {
     "data": {
      "text/html": [
       "<img src=\"data:image/png;base64,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\" width=\"800\">"
      ],
      "text/plain": [
       "<IPython.core.display.HTML object>"
      ]
     },
     "metadata": {},
     "output_type": "display_data"
    }
   ],
   "source": [
    "# Create chart 1\n",
    "df_frde_total = df_frde[[\"France total cases\",\"Germany total cases\",\"Date\"]]\n",
    "\n",
    "plt.figure(figsize=(10,8), dpi= 80)\n",
    "day = df_frde[\"Date\"]\n",
    "y_fr = df_frde[\"France total cases\"]\n",
    "y_de = df_frde[\"Germany total cases\"]\n",
    "plt.grid(alpha=0.5)\n",
    "plt.xticks(rotation=45)\n",
    "plt.plot(day, y_fr, color='#FF5555', label = \"France\")\n",
    "plt.plot(day, y_de, color='#047ADB', label = \"Germany\")\n",
    "plt.xlim([min(day),max(day)])\n",
    "plt.title('Chart 1: Number of Coronavirus Cases')\n",
    "plt.legend(bbox_to_anchor=(1.05, 1), loc='upper left', borderaxespad=0.)\n",
    "plt.tight_layout()\n",
    "\n",
    "plt.show()"
   ]
  },
  {
   "cell_type": "markdown",
   "metadata": {},
   "source": [
    "## Chart 2: Number of Coronavirus-related Deaths in France and Germany"
   ]
  },
  {
   "cell_type": "code",
   "execution_count": 3,
   "metadata": {},
   "outputs": [
    {
     "data": {
      "application/javascript": [
       "/* Put everything inside the global mpl namespace */\n",
       "window.mpl = {};\n",
       "\n",
       "\n",
       "mpl.get_websocket_type = function() {\n",
       "    if (typeof(WebSocket) !== 'undefined') {\n",
       "        return WebSocket;\n",
       "    } else if (typeof(MozWebSocket) !== 'undefined') {\n",
       "        return MozWebSocket;\n",
       "    } else {\n",
       "        alert('Your browser does not have WebSocket support. ' +\n",
       "              'Please try Chrome, Safari or Firefox ≥ 6. ' +\n",
       "              'Firefox 4 and 5 are also supported but you ' +\n",
       "              'have to enable WebSockets in about:config.');\n",
       "    };\n",
       "}\n",
       "\n",
       "mpl.figure = function(figure_id, websocket, ondownload, parent_element) {\n",
       "    this.id = figure_id;\n",
       "\n",
       "    this.ws = websocket;\n",
       "\n",
       "    this.supports_binary = (this.ws.binaryType != undefined);\n",
       "\n",
       "    if (!this.supports_binary) {\n",
       "        var warnings = document.getElementById(\"mpl-warnings\");\n",
       "        if (warnings) {\n",
       "            warnings.style.display = 'block';\n",
       "            warnings.textContent = (\n",
       "                \"This browser does not support binary websocket messages. \" +\n",
       "                    \"Performance may be slow.\");\n",
       "        }\n",
       "    }\n",
       "\n",
       "    this.imageObj = new Image();\n",
       "\n",
       "    this.context = undefined;\n",
       "    this.message = undefined;\n",
       "    this.canvas = undefined;\n",
       "    this.rubberband_canvas = undefined;\n",
       "    this.rubberband_context = undefined;\n",
       "    this.format_dropdown = undefined;\n",
       "\n",
       "    this.image_mode = 'full';\n",
       "\n",
       "    this.root = $('<div/>');\n",
       "    this._root_extra_style(this.root)\n",
       "    this.root.attr('style', 'display: inline-block');\n",
       "\n",
       "    $(parent_element).append(this.root);\n",
       "\n",
       "    this._init_header(this);\n",
       "    this._init_canvas(this);\n",
       "    this._init_toolbar(this);\n",
       "\n",
       "    var fig = this;\n",
       "\n",
       "    this.waiting = false;\n",
       "\n",
       "    this.ws.onopen =  function () {\n",
       "            fig.send_message(\"supports_binary\", {value: fig.supports_binary});\n",
       "            fig.send_message(\"send_image_mode\", {});\n",
       "            if (mpl.ratio != 1) {\n",
       "                fig.send_message(\"set_dpi_ratio\", {'dpi_ratio': mpl.ratio});\n",
       "            }\n",
       "            fig.send_message(\"refresh\", {});\n",
       "        }\n",
       "\n",
       "    this.imageObj.onload = function() {\n",
       "            if (fig.image_mode == 'full') {\n",
       "                // Full images could contain transparency (where diff images\n",
       "                // almost always do), so we need to clear the canvas so that\n",
       "                // there is no ghosting.\n",
       "                fig.context.clearRect(0, 0, fig.canvas.width, fig.canvas.height);\n",
       "            }\n",
       "            fig.context.drawImage(fig.imageObj, 0, 0);\n",
       "        };\n",
       "\n",
       "    this.imageObj.onunload = function() {\n",
       "        fig.ws.close();\n",
       "    }\n",
       "\n",
       "    this.ws.onmessage = this._make_on_message_function(this);\n",
       "\n",
       "    this.ondownload = ondownload;\n",
       "}\n",
       "\n",
       "mpl.figure.prototype._init_header = function() {\n",
       "    var titlebar = $(\n",
       "        '<div class=\"ui-dialog-titlebar ui-widget-header ui-corner-all ' +\n",
       "        'ui-helper-clearfix\"/>');\n",
       "    var titletext = $(\n",
       "        '<div class=\"ui-dialog-title\" style=\"width: 100%; ' +\n",
       "        'text-align: center; padding: 3px;\"/>');\n",
       "    titlebar.append(titletext)\n",
       "    this.root.append(titlebar);\n",
       "    this.header = titletext[0];\n",
       "}\n",
       "\n",
       "\n",
       "\n",
       "mpl.figure.prototype._canvas_extra_style = function(canvas_div) {\n",
       "\n",
       "}\n",
       "\n",
       "\n",
       "mpl.figure.prototype._root_extra_style = function(canvas_div) {\n",
       "\n",
       "}\n",
       "\n",
       "mpl.figure.prototype._init_canvas = function() {\n",
       "    var fig = this;\n",
       "\n",
       "    var canvas_div = $('<div/>');\n",
       "\n",
       "    canvas_div.attr('style', 'position: relative; clear: both; outline: 0');\n",
       "\n",
       "    function canvas_keyboard_event(event) {\n",
       "        return fig.key_event(event, event['data']);\n",
       "    }\n",
       "\n",
       "    canvas_div.keydown('key_press', canvas_keyboard_event);\n",
       "    canvas_div.keyup('key_release', canvas_keyboard_event);\n",
       "    this.canvas_div = canvas_div\n",
       "    this._canvas_extra_style(canvas_div)\n",
       "    this.root.append(canvas_div);\n",
       "\n",
       "    var canvas = $('<canvas/>');\n",
       "    canvas.addClass('mpl-canvas');\n",
       "    canvas.attr('style', \"left: 0; top: 0; z-index: 0; outline: 0\")\n",
       "\n",
       "    this.canvas = canvas[0];\n",
       "    this.context = canvas[0].getContext(\"2d\");\n",
       "\n",
       "    var backingStore = this.context.backingStorePixelRatio ||\n",
       "\tthis.context.webkitBackingStorePixelRatio ||\n",
       "\tthis.context.mozBackingStorePixelRatio ||\n",
       "\tthis.context.msBackingStorePixelRatio ||\n",
       "\tthis.context.oBackingStorePixelRatio ||\n",
       "\tthis.context.backingStorePixelRatio || 1;\n",
       "\n",
       "    mpl.ratio = (window.devicePixelRatio || 1) / backingStore;\n",
       "\n",
       "    var rubberband = $('<canvas/>');\n",
       "    rubberband.attr('style', \"position: absolute; left: 0; top: 0; z-index: 1;\")\n",
       "\n",
       "    var pass_mouse_events = true;\n",
       "\n",
       "    canvas_div.resizable({\n",
       "        start: function(event, ui) {\n",
       "            pass_mouse_events = false;\n",
       "        },\n",
       "        resize: function(event, ui) {\n",
       "            fig.request_resize(ui.size.width, ui.size.height);\n",
       "        },\n",
       "        stop: function(event, ui) {\n",
       "            pass_mouse_events = true;\n",
       "            fig.request_resize(ui.size.width, ui.size.height);\n",
       "        },\n",
       "    });\n",
       "\n",
       "    function mouse_event_fn(event) {\n",
       "        if (pass_mouse_events)\n",
       "            return fig.mouse_event(event, event['data']);\n",
       "    }\n",
       "\n",
       "    rubberband.mousedown('button_press', mouse_event_fn);\n",
       "    rubberband.mouseup('button_release', mouse_event_fn);\n",
       "    // Throttle sequential mouse events to 1 every 20ms.\n",
       "    rubberband.mousemove('motion_notify', mouse_event_fn);\n",
       "\n",
       "    rubberband.mouseenter('figure_enter', mouse_event_fn);\n",
       "    rubberband.mouseleave('figure_leave', mouse_event_fn);\n",
       "\n",
       "    canvas_div.on(\"wheel\", function (event) {\n",
       "        event = event.originalEvent;\n",
       "        event['data'] = 'scroll'\n",
       "        if (event.deltaY < 0) {\n",
       "            event.step = 1;\n",
       "        } else {\n",
       "            event.step = -1;\n",
       "        }\n",
       "        mouse_event_fn(event);\n",
       "    });\n",
       "\n",
       "    canvas_div.append(canvas);\n",
       "    canvas_div.append(rubberband);\n",
       "\n",
       "    this.rubberband = rubberband;\n",
       "    this.rubberband_canvas = rubberband[0];\n",
       "    this.rubberband_context = rubberband[0].getContext(\"2d\");\n",
       "    this.rubberband_context.strokeStyle = \"#000000\";\n",
       "\n",
       "    this._resize_canvas = function(width, height) {\n",
       "        // Keep the size of the canvas, canvas container, and rubber band\n",
       "        // canvas in synch.\n",
       "        canvas_div.css('width', width)\n",
       "        canvas_div.css('height', height)\n",
       "\n",
       "        canvas.attr('width', width * mpl.ratio);\n",
       "        canvas.attr('height', height * mpl.ratio);\n",
       "        canvas.attr('style', 'width: ' + width + 'px; height: ' + height + 'px;');\n",
       "\n",
       "        rubberband.attr('width', width);\n",
       "        rubberband.attr('height', height);\n",
       "    }\n",
       "\n",
       "    // Set the figure to an initial 600x600px, this will subsequently be updated\n",
       "    // upon first draw.\n",
       "    this._resize_canvas(600, 600);\n",
       "\n",
       "    // Disable right mouse context menu.\n",
       "    $(this.rubberband_canvas).bind(\"contextmenu\",function(e){\n",
       "        return false;\n",
       "    });\n",
       "\n",
       "    function set_focus () {\n",
       "        canvas.focus();\n",
       "        canvas_div.focus();\n",
       "    }\n",
       "\n",
       "    window.setTimeout(set_focus, 100);\n",
       "}\n",
       "\n",
       "mpl.figure.prototype._init_toolbar = function() {\n",
       "    var fig = this;\n",
       "\n",
       "    var nav_element = $('<div/>');\n",
       "    nav_element.attr('style', 'width: 100%');\n",
       "    this.root.append(nav_element);\n",
       "\n",
       "    // Define a callback function for later on.\n",
       "    function toolbar_event(event) {\n",
       "        return fig.toolbar_button_onclick(event['data']);\n",
       "    }\n",
       "    function toolbar_mouse_event(event) {\n",
       "        return fig.toolbar_button_onmouseover(event['data']);\n",
       "    }\n",
       "\n",
       "    for(var toolbar_ind in mpl.toolbar_items) {\n",
       "        var name = mpl.toolbar_items[toolbar_ind][0];\n",
       "        var tooltip = mpl.toolbar_items[toolbar_ind][1];\n",
       "        var image = mpl.toolbar_items[toolbar_ind][2];\n",
       "        var method_name = mpl.toolbar_items[toolbar_ind][3];\n",
       "\n",
       "        if (!name) {\n",
       "            // put a spacer in here.\n",
       "            continue;\n",
       "        }\n",
       "        var button = $('<button/>');\n",
       "        button.addClass('ui-button ui-widget ui-state-default ui-corner-all ' +\n",
       "                        'ui-button-icon-only');\n",
       "        button.attr('role', 'button');\n",
       "        button.attr('aria-disabled', 'false');\n",
       "        button.click(method_name, toolbar_event);\n",
       "        button.mouseover(tooltip, toolbar_mouse_event);\n",
       "\n",
       "        var icon_img = $('<span/>');\n",
       "        icon_img.addClass('ui-button-icon-primary ui-icon');\n",
       "        icon_img.addClass(image);\n",
       "        icon_img.addClass('ui-corner-all');\n",
       "\n",
       "        var tooltip_span = $('<span/>');\n",
       "        tooltip_span.addClass('ui-button-text');\n",
       "        tooltip_span.html(tooltip);\n",
       "\n",
       "        button.append(icon_img);\n",
       "        button.append(tooltip_span);\n",
       "\n",
       "        nav_element.append(button);\n",
       "    }\n",
       "\n",
       "    var fmt_picker_span = $('<span/>');\n",
       "\n",
       "    var fmt_picker = $('<select/>');\n",
       "    fmt_picker.addClass('mpl-toolbar-option ui-widget ui-widget-content');\n",
       "    fmt_picker_span.append(fmt_picker);\n",
       "    nav_element.append(fmt_picker_span);\n",
       "    this.format_dropdown = fmt_picker[0];\n",
       "\n",
       "    for (var ind in mpl.extensions) {\n",
       "        var fmt = mpl.extensions[ind];\n",
       "        var option = $(\n",
       "            '<option/>', {selected: fmt === mpl.default_extension}).html(fmt);\n",
       "        fmt_picker.append(option);\n",
       "    }\n",
       "\n",
       "    // Add hover states to the ui-buttons\n",
       "    $( \".ui-button\" ).hover(\n",
       "        function() { $(this).addClass(\"ui-state-hover\");},\n",
       "        function() { $(this).removeClass(\"ui-state-hover\");}\n",
       "    );\n",
       "\n",
       "    var status_bar = $('<span class=\"mpl-message\"/>');\n",
       "    nav_element.append(status_bar);\n",
       "    this.message = status_bar[0];\n",
       "}\n",
       "\n",
       "mpl.figure.prototype.request_resize = function(x_pixels, y_pixels) {\n",
       "    // Request matplotlib to resize the figure. Matplotlib will then trigger a resize in the client,\n",
       "    // which will in turn request a refresh of the image.\n",
       "    this.send_message('resize', {'width': x_pixels, 'height': y_pixels});\n",
       "}\n",
       "\n",
       "mpl.figure.prototype.send_message = function(type, properties) {\n",
       "    properties['type'] = type;\n",
       "    properties['figure_id'] = this.id;\n",
       "    this.ws.send(JSON.stringify(properties));\n",
       "}\n",
       "\n",
       "mpl.figure.prototype.send_draw_message = function() {\n",
       "    if (!this.waiting) {\n",
       "        this.waiting = true;\n",
       "        this.ws.send(JSON.stringify({type: \"draw\", figure_id: this.id}));\n",
       "    }\n",
       "}\n",
       "\n",
       "\n",
       "mpl.figure.prototype.handle_save = function(fig, msg) {\n",
       "    var format_dropdown = fig.format_dropdown;\n",
       "    var format = format_dropdown.options[format_dropdown.selectedIndex].value;\n",
       "    fig.ondownload(fig, format);\n",
       "}\n",
       "\n",
       "\n",
       "mpl.figure.prototype.handle_resize = function(fig, msg) {\n",
       "    var size = msg['size'];\n",
       "    if (size[0] != fig.canvas.width || size[1] != fig.canvas.height) {\n",
       "        fig._resize_canvas(size[0], size[1]);\n",
       "        fig.send_message(\"refresh\", {});\n",
       "    };\n",
       "}\n",
       "\n",
       "mpl.figure.prototype.handle_rubberband = function(fig, msg) {\n",
       "    var x0 = msg['x0'] / mpl.ratio;\n",
       "    var y0 = (fig.canvas.height - msg['y0']) / mpl.ratio;\n",
       "    var x1 = msg['x1'] / mpl.ratio;\n",
       "    var y1 = (fig.canvas.height - msg['y1']) / mpl.ratio;\n",
       "    x0 = Math.floor(x0) + 0.5;\n",
       "    y0 = Math.floor(y0) + 0.5;\n",
       "    x1 = Math.floor(x1) + 0.5;\n",
       "    y1 = Math.floor(y1) + 0.5;\n",
       "    var min_x = Math.min(x0, x1);\n",
       "    var min_y = Math.min(y0, y1);\n",
       "    var width = Math.abs(x1 - x0);\n",
       "    var height = Math.abs(y1 - y0);\n",
       "\n",
       "    fig.rubberband_context.clearRect(\n",
       "        0, 0, fig.canvas.width / mpl.ratio, fig.canvas.height / mpl.ratio);\n",
       "\n",
       "    fig.rubberband_context.strokeRect(min_x, min_y, width, height);\n",
       "}\n",
       "\n",
       "mpl.figure.prototype.handle_figure_label = function(fig, msg) {\n",
       "    // Updates the figure title.\n",
       "    fig.header.textContent = msg['label'];\n",
       "}\n",
       "\n",
       "mpl.figure.prototype.handle_cursor = function(fig, msg) {\n",
       "    var cursor = msg['cursor'];\n",
       "    switch(cursor)\n",
       "    {\n",
       "    case 0:\n",
       "        cursor = 'pointer';\n",
       "        break;\n",
       "    case 1:\n",
       "        cursor = 'default';\n",
       "        break;\n",
       "    case 2:\n",
       "        cursor = 'crosshair';\n",
       "        break;\n",
       "    case 3:\n",
       "        cursor = 'move';\n",
       "        break;\n",
       "    }\n",
       "    fig.rubberband_canvas.style.cursor = cursor;\n",
       "}\n",
       "\n",
       "mpl.figure.prototype.handle_message = function(fig, msg) {\n",
       "    fig.message.textContent = msg['message'];\n",
       "}\n",
       "\n",
       "mpl.figure.prototype.handle_draw = function(fig, msg) {\n",
       "    // Request the server to send over a new figure.\n",
       "    fig.send_draw_message();\n",
       "}\n",
       "\n",
       "mpl.figure.prototype.handle_image_mode = function(fig, msg) {\n",
       "    fig.image_mode = msg['mode'];\n",
       "}\n",
       "\n",
       "mpl.figure.prototype.updated_canvas_event = function() {\n",
       "    // Called whenever the canvas gets updated.\n",
       "    this.send_message(\"ack\", {});\n",
       "}\n",
       "\n",
       "// A function to construct a web socket function for onmessage handling.\n",
       "// Called in the figure constructor.\n",
       "mpl.figure.prototype._make_on_message_function = function(fig) {\n",
       "    return function socket_on_message(evt) {\n",
       "        if (evt.data instanceof Blob) {\n",
       "            /* FIXME: We get \"Resource interpreted as Image but\n",
       "             * transferred with MIME type text/plain:\" errors on\n",
       "             * Chrome.  But how to set the MIME type?  It doesn't seem\n",
       "             * to be part of the websocket stream */\n",
       "            evt.data.type = \"image/png\";\n",
       "\n",
       "            /* Free the memory for the previous frames */\n",
       "            if (fig.imageObj.src) {\n",
       "                (window.URL || window.webkitURL).revokeObjectURL(\n",
       "                    fig.imageObj.src);\n",
       "            }\n",
       "\n",
       "            fig.imageObj.src = (window.URL || window.webkitURL).createObjectURL(\n",
       "                evt.data);\n",
       "            fig.updated_canvas_event();\n",
       "            fig.waiting = false;\n",
       "            return;\n",
       "        }\n",
       "        else if (typeof evt.data === 'string' && evt.data.slice(0, 21) == \"data:image/png;base64\") {\n",
       "            fig.imageObj.src = evt.data;\n",
       "            fig.updated_canvas_event();\n",
       "            fig.waiting = false;\n",
       "            return;\n",
       "        }\n",
       "\n",
       "        var msg = JSON.parse(evt.data);\n",
       "        var msg_type = msg['type'];\n",
       "\n",
       "        // Call the  \"handle_{type}\" callback, which takes\n",
       "        // the figure and JSON message as its only arguments.\n",
       "        try {\n",
       "            var callback = fig[\"handle_\" + msg_type];\n",
       "        } catch (e) {\n",
       "            console.log(\"No handler for the '\" + msg_type + \"' message type: \", msg);\n",
       "            return;\n",
       "        }\n",
       "\n",
       "        if (callback) {\n",
       "            try {\n",
       "                // console.log(\"Handling '\" + msg_type + \"' message: \", msg);\n",
       "                callback(fig, msg);\n",
       "            } catch (e) {\n",
       "                console.log(\"Exception inside the 'handler_\" + msg_type + \"' callback:\", e, e.stack, msg);\n",
       "            }\n",
       "        }\n",
       "    };\n",
       "}\n",
       "\n",
       "// from http://stackoverflow.com/questions/1114465/getting-mouse-location-in-canvas\n",
       "mpl.findpos = function(e) {\n",
       "    //this section is from http://www.quirksmode.org/js/events_properties.html\n",
       "    var targ;\n",
       "    if (!e)\n",
       "        e = window.event;\n",
       "    if (e.target)\n",
       "        targ = e.target;\n",
       "    else if (e.srcElement)\n",
       "        targ = e.srcElement;\n",
       "    if (targ.nodeType == 3) // defeat Safari bug\n",
       "        targ = targ.parentNode;\n",
       "\n",
       "    // jQuery normalizes the pageX and pageY\n",
       "    // pageX,Y are the mouse positions relative to the document\n",
       "    // offset() returns the position of the element relative to the document\n",
       "    var x = e.pageX - $(targ).offset().left;\n",
       "    var y = e.pageY - $(targ).offset().top;\n",
       "\n",
       "    return {\"x\": x, \"y\": y};\n",
       "};\n",
       "\n",
       "/*\n",
       " * return a copy of an object with only non-object keys\n",
       " * we need this to avoid circular references\n",
       " * http://stackoverflow.com/a/24161582/3208463\n",
       " */\n",
       "function simpleKeys (original) {\n",
       "  return Object.keys(original).reduce(function (obj, key) {\n",
       "    if (typeof original[key] !== 'object')\n",
       "        obj[key] = original[key]\n",
       "    return obj;\n",
       "  }, {});\n",
       "}\n",
       "\n",
       "mpl.figure.prototype.mouse_event = function(event, name) {\n",
       "    var canvas_pos = mpl.findpos(event)\n",
       "\n",
       "    if (name === 'button_press')\n",
       "    {\n",
       "        this.canvas.focus();\n",
       "        this.canvas_div.focus();\n",
       "    }\n",
       "\n",
       "    var x = canvas_pos.x * mpl.ratio;\n",
       "    var y = canvas_pos.y * mpl.ratio;\n",
       "\n",
       "    this.send_message(name, {x: x, y: y, button: event.button,\n",
       "                             step: event.step,\n",
       "                             guiEvent: simpleKeys(event)});\n",
       "\n",
       "    /* This prevents the web browser from automatically changing to\n",
       "     * the text insertion cursor when the button is pressed.  We want\n",
       "     * to control all of the cursor setting manually through the\n",
       "     * 'cursor' event from matplotlib */\n",
       "    event.preventDefault();\n",
       "    return false;\n",
       "}\n",
       "\n",
       "mpl.figure.prototype._key_event_extra = function(event, name) {\n",
       "    // Handle any extra behaviour associated with a key event\n",
       "}\n",
       "\n",
       "mpl.figure.prototype.key_event = function(event, name) {\n",
       "\n",
       "    // Prevent repeat events\n",
       "    if (name == 'key_press')\n",
       "    {\n",
       "        if (event.which === this._key)\n",
       "            return;\n",
       "        else\n",
       "            this._key = event.which;\n",
       "    }\n",
       "    if (name == 'key_release')\n",
       "        this._key = null;\n",
       "\n",
       "    var value = '';\n",
       "    if (event.ctrlKey && event.which != 17)\n",
       "        value += \"ctrl+\";\n",
       "    if (event.altKey && event.which != 18)\n",
       "        value += \"alt+\";\n",
       "    if (event.shiftKey && event.which != 16)\n",
       "        value += \"shift+\";\n",
       "\n",
       "    value += 'k';\n",
       "    value += event.which.toString();\n",
       "\n",
       "    this._key_event_extra(event, name);\n",
       "\n",
       "    this.send_message(name, {key: value,\n",
       "                             guiEvent: simpleKeys(event)});\n",
       "    return false;\n",
       "}\n",
       "\n",
       "mpl.figure.prototype.toolbar_button_onclick = function(name) {\n",
       "    if (name == 'download') {\n",
       "        this.handle_save(this, null);\n",
       "    } else {\n",
       "        this.send_message(\"toolbar_button\", {name: name});\n",
       "    }\n",
       "};\n",
       "\n",
       "mpl.figure.prototype.toolbar_button_onmouseover = function(tooltip) {\n",
       "    this.message.textContent = tooltip;\n",
       "};\n",
       "mpl.toolbar_items = [[\"Home\", \"Reset original view\", \"fa fa-home icon-home\", \"home\"], [\"Back\", \"Back to previous view\", \"fa fa-arrow-left icon-arrow-left\", \"back\"], [\"Forward\", \"Forward to next view\", \"fa fa-arrow-right icon-arrow-right\", \"forward\"], [\"\", \"\", \"\", \"\"], [\"Pan\", \"Pan axes with left mouse, zoom with right\", \"fa fa-arrows icon-move\", \"pan\"], [\"Zoom\", \"Zoom to rectangle\", \"fa fa-square-o icon-check-empty\", \"zoom\"], [\"\", \"\", \"\", \"\"], [\"Download\", \"Download plot\", \"fa fa-floppy-o icon-save\", \"download\"]];\n",
       "\n",
       "mpl.extensions = [\"eps\", \"jpeg\", \"pdf\", \"png\", \"ps\", \"raw\", \"svg\", \"tif\"];\n",
       "\n",
       "mpl.default_extension = \"png\";var comm_websocket_adapter = function(comm) {\n",
       "    // Create a \"websocket\"-like object which calls the given IPython comm\n",
       "    // object with the appropriate methods. Currently this is a non binary\n",
       "    // socket, so there is still some room for performance tuning.\n",
       "    var ws = {};\n",
       "\n",
       "    ws.close = function() {\n",
       "        comm.close()\n",
       "    };\n",
       "    ws.send = function(m) {\n",
       "        //console.log('sending', m);\n",
       "        comm.send(m);\n",
       "    };\n",
       "    // Register the callback with on_msg.\n",
       "    comm.on_msg(function(msg) {\n",
       "        //console.log('receiving', msg['content']['data'], msg);\n",
       "        // Pass the mpl event to the overridden (by mpl) onmessage function.\n",
       "        ws.onmessage(msg['content']['data'])\n",
       "    });\n",
       "    return ws;\n",
       "}\n",
       "\n",
       "mpl.mpl_figure_comm = function(comm, msg) {\n",
       "    // This is the function which gets called when the mpl process\n",
       "    // starts-up an IPython Comm through the \"matplotlib\" channel.\n",
       "\n",
       "    var id = msg.content.data.id;\n",
       "    // Get hold of the div created by the display call when the Comm\n",
       "    // socket was opened in Python.\n",
       "    var element = $(\"#\" + id);\n",
       "    var ws_proxy = comm_websocket_adapter(comm)\n",
       "\n",
       "    function ondownload(figure, format) {\n",
       "        window.open(figure.imageObj.src);\n",
       "    }\n",
       "\n",
       "    var fig = new mpl.figure(id, ws_proxy,\n",
       "                           ondownload,\n",
       "                           element.get(0));\n",
       "\n",
       "    // Call onopen now - mpl needs it, as it is assuming we've passed it a real\n",
       "    // web socket which is closed, not our websocket->open comm proxy.\n",
       "    ws_proxy.onopen();\n",
       "\n",
       "    fig.parent_element = element.get(0);\n",
       "    fig.cell_info = mpl.find_output_cell(\"<div id='\" + id + \"'></div>\");\n",
       "    if (!fig.cell_info) {\n",
       "        console.error(\"Failed to find cell for figure\", id, fig);\n",
       "        return;\n",
       "    }\n",
       "\n",
       "    var output_index = fig.cell_info[2]\n",
       "    var cell = fig.cell_info[0];\n",
       "\n",
       "};\n",
       "\n",
       "mpl.figure.prototype.handle_close = function(fig, msg) {\n",
       "    var width = fig.canvas.width/mpl.ratio\n",
       "    fig.root.unbind('remove')\n",
       "\n",
       "    // Update the output cell to use the data from the current canvas.\n",
       "    fig.push_to_output();\n",
       "    var dataURL = fig.canvas.toDataURL();\n",
       "    // Re-enable the keyboard manager in IPython - without this line, in FF,\n",
       "    // the notebook keyboard shortcuts fail.\n",
       "    IPython.keyboard_manager.enable()\n",
       "    $(fig.parent_element).html('<img src=\"' + dataURL + '\" width=\"' + width + '\">');\n",
       "    fig.close_ws(fig, msg);\n",
       "}\n",
       "\n",
       "mpl.figure.prototype.close_ws = function(fig, msg){\n",
       "    fig.send_message('closing', msg);\n",
       "    // fig.ws.close()\n",
       "}\n",
       "\n",
       "mpl.figure.prototype.push_to_output = function(remove_interactive) {\n",
       "    // Turn the data on the canvas into data in the output cell.\n",
       "    var width = this.canvas.width/mpl.ratio\n",
       "    var dataURL = this.canvas.toDataURL();\n",
       "    this.cell_info[1]['text/html'] = '<img src=\"' + dataURL + '\" width=\"' + width + '\">';\n",
       "}\n",
       "\n",
       "mpl.figure.prototype.updated_canvas_event = function() {\n",
       "    // Tell IPython that the notebook contents must change.\n",
       "    IPython.notebook.set_dirty(true);\n",
       "    this.send_message(\"ack\", {});\n",
       "    var fig = this;\n",
       "    // Wait a second, then push the new image to the DOM so\n",
       "    // that it is saved nicely (might be nice to debounce this).\n",
       "    setTimeout(function () { fig.push_to_output() }, 1000);\n",
       "}\n",
       "\n",
       "mpl.figure.prototype._init_toolbar = function() {\n",
       "    var fig = this;\n",
       "\n",
       "    var nav_element = $('<div/>');\n",
       "    nav_element.attr('style', 'width: 100%');\n",
       "    this.root.append(nav_element);\n",
       "\n",
       "    // Define a callback function for later on.\n",
       "    function toolbar_event(event) {\n",
       "        return fig.toolbar_button_onclick(event['data']);\n",
       "    }\n",
       "    function toolbar_mouse_event(event) {\n",
       "        return fig.toolbar_button_onmouseover(event['data']);\n",
       "    }\n",
       "\n",
       "    for(var toolbar_ind in mpl.toolbar_items){\n",
       "        var name = mpl.toolbar_items[toolbar_ind][0];\n",
       "        var tooltip = mpl.toolbar_items[toolbar_ind][1];\n",
       "        var image = mpl.toolbar_items[toolbar_ind][2];\n",
       "        var method_name = mpl.toolbar_items[toolbar_ind][3];\n",
       "\n",
       "        if (!name) { continue; };\n",
       "\n",
       "        var button = $('<button class=\"btn btn-default\" href=\"#\" title=\"' + name + '\"><i class=\"fa ' + image + ' fa-lg\"></i></button>');\n",
       "        button.click(method_name, toolbar_event);\n",
       "        button.mouseover(tooltip, toolbar_mouse_event);\n",
       "        nav_element.append(button);\n",
       "    }\n",
       "\n",
       "    // Add the status bar.\n",
       "    var status_bar = $('<span class=\"mpl-message\" style=\"text-align:right; float: right;\"/>');\n",
       "    nav_element.append(status_bar);\n",
       "    this.message = status_bar[0];\n",
       "\n",
       "    // Add the close button to the window.\n",
       "    var buttongrp = $('<div class=\"btn-group inline pull-right\"></div>');\n",
       "    var button = $('<button class=\"btn btn-mini btn-primary\" href=\"#\" title=\"Stop Interaction\"><i class=\"fa fa-power-off icon-remove icon-large\"></i></button>');\n",
       "    button.click(function (evt) { fig.handle_close(fig, {}); } );\n",
       "    button.mouseover('Stop Interaction', toolbar_mouse_event);\n",
       "    buttongrp.append(button);\n",
       "    var titlebar = this.root.find($('.ui-dialog-titlebar'));\n",
       "    titlebar.prepend(buttongrp);\n",
       "}\n",
       "\n",
       "mpl.figure.prototype._root_extra_style = function(el){\n",
       "    var fig = this\n",
       "    el.on(\"remove\", function(){\n",
       "\tfig.close_ws(fig, {});\n",
       "    });\n",
       "}\n",
       "\n",
       "mpl.figure.prototype._canvas_extra_style = function(el){\n",
       "    // this is important to make the div 'focusable\n",
       "    el.attr('tabindex', 0)\n",
       "    // reach out to IPython and tell the keyboard manager to turn it's self\n",
       "    // off when our div gets focus\n",
       "\n",
       "    // location in version 3\n",
       "    if (IPython.notebook.keyboard_manager) {\n",
       "        IPython.notebook.keyboard_manager.register_events(el);\n",
       "    }\n",
       "    else {\n",
       "        // location in version 2\n",
       "        IPython.keyboard_manager.register_events(el);\n",
       "    }\n",
       "\n",
       "}\n",
       "\n",
       "mpl.figure.prototype._key_event_extra = function(event, name) {\n",
       "    var manager = IPython.notebook.keyboard_manager;\n",
       "    if (!manager)\n",
       "        manager = IPython.keyboard_manager;\n",
       "\n",
       "    // Check for shift+enter\n",
       "    if (event.shiftKey && event.which == 13) {\n",
       "        this.canvas_div.blur();\n",
       "        // select the cell after this one\n",
       "        var index = IPython.notebook.find_cell_index(this.cell_info[0]);\n",
       "        IPython.notebook.select(index + 1);\n",
       "    }\n",
       "}\n",
       "\n",
       "mpl.figure.prototype.handle_save = function(fig, msg) {\n",
       "    fig.ondownload(fig, null);\n",
       "}\n",
       "\n",
       "\n",
       "mpl.find_output_cell = function(html_output) {\n",
       "    // Return the cell and output element which can be found *uniquely* in the notebook.\n",
       "    // Note - this is a bit hacky, but it is done because the \"notebook_saving.Notebook\"\n",
       "    // IPython event is triggered only after the cells have been serialised, which for\n",
       "    // our purposes (turning an active figure into a static one), is too late.\n",
       "    var cells = IPython.notebook.get_cells();\n",
       "    var ncells = cells.length;\n",
       "    for (var i=0; i<ncells; i++) {\n",
       "        var cell = cells[i];\n",
       "        if (cell.cell_type === 'code'){\n",
       "            for (var j=0; j<cell.output_area.outputs.length; j++) {\n",
       "                var data = cell.output_area.outputs[j];\n",
       "                if (data.data) {\n",
       "                    // IPython >= 3 moved mimebundle to data attribute of output\n",
       "                    data = data.data;\n",
       "                }\n",
       "                if (data['text/html'] == html_output) {\n",
       "                    return [cell, data, j];\n",
       "                }\n",
       "            }\n",
       "        }\n",
       "    }\n",
       "}\n",
       "\n",
       "// Register the function which deals with the matplotlib target/channel.\n",
       "// The kernel may be null if the page has been refreshed.\n",
       "if (IPython.notebook.kernel != null) {\n",
       "    IPython.notebook.kernel.comm_manager.register_target('matplotlib', mpl.mpl_figure_comm);\n",
       "}\n"
      ],
      "text/plain": [
       "<IPython.core.display.Javascript object>"
      ]
     },
     "metadata": {},
     "output_type": "display_data"
    },
    {
     "data": {
      "text/html": [
       "<img src=\"data:image/png;base64,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\" width=\"800\">"
      ],
      "text/plain": [
       "<IPython.core.display.HTML object>"
      ]
     },
     "metadata": {},
     "output_type": "display_data"
    }
   ],
   "source": [
    "# Create chart 2\n",
    "df_frde_deaths = df_frde[[\"France deaths\",\"Germany deaths\",\"Date\"]]\n",
    "\n",
    "plt.figure(figsize=(10,8), dpi= 80)\n",
    "day = df_frde[\"Date\"]\n",
    "y_fr = df_frde[\"France deaths\"]\n",
    "y_de = df_frde[\"Germany deaths\"]\n",
    "plt.grid(alpha=0.5)\n",
    "plt.xticks(rotation=45)\n",
    "plt.plot(day, y_fr, color='#FF5555', label = \"France\")\n",
    "plt.plot(day, y_de, color='#047ADB', label = \"Germany\")\n",
    "plt.xlim([min(day),max(day)])\n",
    "plt.title('Chart 2: Number of Coronavirus-related Deaths')\n",
    "plt.legend(bbox_to_anchor=(1.05, 1), loc='upper left', borderaxespad=0.)\n",
    "plt.tight_layout()\n",
    "\n",
    "plt.show()"
   ]
  },
  {
   "cell_type": "markdown",
   "metadata": {},
   "source": [
    "## Chart 4: Statistics in Selected European Countries"
   ]
  },
  {
   "cell_type": "code",
   "execution_count": 4,
   "metadata": {},
   "outputs": [
    {
     "data": {
      "text/html": [
       "<div>\n",
       "<style scoped>\n",
       "    .dataframe tbody tr th:only-of-type {\n",
       "        vertical-align: middle;\n",
       "    }\n",
       "\n",
       "    .dataframe tbody tr th {\n",
       "        vertical-align: top;\n",
       "    }\n",
       "\n",
       "    .dataframe thead th {\n",
       "        text-align: right;\n",
       "    }\n",
       "</style>\n",
       "<table border=\"1\" class=\"dataframe\">\n",
       "  <thead>\n",
       "    <tr style=\"text-align: right;\">\n",
       "      <th></th>\n",
       "      <th>Country</th>\n",
       "      <th>Population</th>\n",
       "      <th>Total cases</th>\n",
       "      <th>Total cases / 1M pop.</th>\n",
       "    </tr>\n",
       "  </thead>\n",
       "  <tbody>\n",
       "    <tr>\n",
       "      <th>2</th>\n",
       "      <td>Italy</td>\n",
       "      <td>60,461,826</td>\n",
       "      <td>27,980</td>\n",
       "      <td>462.8</td>\n",
       "    </tr>\n",
       "    <tr>\n",
       "      <th>1</th>\n",
       "      <td>Germany</td>\n",
       "      <td>83,783,942</td>\n",
       "      <td>7,241</td>\n",
       "      <td>86.4</td>\n",
       "    </tr>\n",
       "    <tr>\n",
       "      <th>0</th>\n",
       "      <td>France</td>\n",
       "      <td>65,273,511</td>\n",
       "      <td>6,633</td>\n",
       "      <td>101.6</td>\n",
       "    </tr>\n",
       "    <tr>\n",
       "      <th>3</th>\n",
       "      <td>Switzerland</td>\n",
       "      <td>8,654,622</td>\n",
       "      <td>2,353</td>\n",
       "      <td>271.9</td>\n",
       "    </tr>\n",
       "    <tr>\n",
       "      <th>6</th>\n",
       "      <td>Netherlands</td>\n",
       "      <td>17,134,872</td>\n",
       "      <td>1,413</td>\n",
       "      <td>82.5</td>\n",
       "    </tr>\n",
       "    <tr>\n",
       "      <th>5</th>\n",
       "      <td>Belgium</td>\n",
       "      <td>11,589,623</td>\n",
       "      <td>1,058</td>\n",
       "      <td>91.3</td>\n",
       "    </tr>\n",
       "    <tr>\n",
       "      <th>7</th>\n",
       "      <td>Austria</td>\n",
       "      <td>9,006,398</td>\n",
       "      <td>1,018</td>\n",
       "      <td>113.0</td>\n",
       "    </tr>\n",
       "    <tr>\n",
       "      <th>4</th>\n",
       "      <td>Luxembourg</td>\n",
       "      <td>625,978</td>\n",
       "      <td>81</td>\n",
       "      <td>129.4</td>\n",
       "    </tr>\n",
       "  </tbody>\n",
       "</table>\n",
       "</div>"
      ],
      "text/plain": [
       "       Country  Population Total cases  Total cases / 1M pop.\n",
       "2        Italy  60,461,826      27,980                  462.8\n",
       "1      Germany  83,783,942       7,241                   86.4\n",
       "0       France  65,273,511       6,633                  101.6\n",
       "3  Switzerland   8,654,622       2,353                  271.9\n",
       "6  Netherlands  17,134,872       1,413                   82.5\n",
       "5      Belgium  11,589,623       1,058                   91.3\n",
       "7      Austria   9,006,398       1,018                  113.0\n",
       "4   Luxembourg     625,978          81                  129.4"
      ]
     },
     "execution_count": 4,
     "metadata": {},
     "output_type": "execute_result"
    }
   ],
   "source": [
    "# Create chart 4: Statistics per country\n",
    "df_eu_part[\"Total cases / 1M pop.\"] = (df_eu_part[\"Total cases\"] / (df_eu_part[\"Population\"]/1000000)).round(1) \n",
    "df_eu_part = df_eu_part.sort_values(by=['Total cases'], ascending=False)\n",
    "df_eu_part[\"Population\"] = df_eu_part.apply(lambda x: \"{:,}\".format(x['Population']), axis=1)\n",
    "df_eu_part[\"Total cases\"] = df_eu_part.apply(lambda x: \"{:,}\".format(x['Total cases']), axis=1)\n",
    "\n",
    "df_eu_part"
   ]
  },
  {
   "cell_type": "markdown",
   "metadata": {},
   "source": [
    "## Chart 5: Map of Coronavirus Cases in Selected European Countries"
   ]
  },
  {
   "cell_type": "code",
   "execution_count": 6,
   "metadata": {},
   "outputs": [
    {
     "data": {
      "application/vnd.plotly.v1+json": {
       "config": {
        "plotlyServerURL": "https://plot.ly"
       },
       "data": [
        {
         "coloraxis": "coloraxis",
         "customdata": [
          [
           60461826,
           27980
          ],
          [
           83783942,
           7241
          ],
          [
           65273511,
           6633
          ],
          [
           8654622,
           2353
          ],
          [
           17134872,
           1413
          ],
          [
           11589623,
           1058
          ],
          [
           9006398,
           1018
          ],
          [
           625978,
           81
          ]
         ],
         "geo": "geo",
         "hoverlabel": {
          "namelength": 0
         },
         "hovertemplate": "<b>%{hovertext}</b><br><br>Population=%{customdata[0]}<br>Total cases=%{z}<br>Country=%{location}",
         "hovertext": [
          "ITA",
          "DEU",
          "FRA",
          "CHE",
          "NLD",
          "BEL",
          "AUT",
          "LUX"
         ],
         "locations": [
          "ITA",
          "DEU",
          "FRA",
          "CHE",
          "NLD",
          "BEL",
          "AUT",
          "LUX"
         ],
         "name": "",
         "type": "choropleth",
         "z": [
          27980,
          7241,
          6633,
          2353,
          1413,
          1058,
          1018,
          81
         ]
        }
       ],
       "layout": {
        "coloraxis": {
         "colorbar": {
          "title": {
           "text": "Total cases"
          }
         },
         "colorscale": [
          [
           0,
           "rgb(255,255,204)"
          ],
          [
           0.125,
           "rgb(255,237,160)"
          ],
          [
           0.25,
           "rgb(254,217,118)"
          ],
          [
           0.375,
           "rgb(254,178,76)"
          ],
          [
           0.5,
           "rgb(253,141,60)"
          ],
          [
           0.625,
           "rgb(252,78,42)"
          ],
          [
           0.75,
           "rgb(227,26,28)"
          ],
          [
           0.875,
           "rgb(189,0,38)"
          ],
          [
           1,
           "rgb(128,0,38)"
          ]
         ]
        },
        "geo": {
         "center": {},
         "domain": {
          "x": [
           0,
           1
          ],
          "y": [
           0,
           1
          ]
         },
         "scope": "europe"
        },
        "legend": {
         "tracegroupgap": 0
        },
        "margin": {
         "t": 60
        },
        "template": {
         "data": {
          "bar": [
           {
            "error_x": {
             "color": "#2a3f5f"
            },
            "error_y": {
             "color": "#2a3f5f"
            },
            "marker": {
             "line": {
              "color": "#E5ECF6",
              "width": 0.5
             }
            },
            "type": "bar"
           }
          ],
          "barpolar": [
           {
            "marker": {
             "line": {
              "color": "#E5ECF6",
              "width": 0.5
             }
            },
            "type": "barpolar"
           }
          ],
          "carpet": [
           {
            "aaxis": {
             "endlinecolor": "#2a3f5f",
             "gridcolor": "white",
             "linecolor": "white",
             "minorgridcolor": "white",
             "startlinecolor": "#2a3f5f"
            },
            "baxis": {
             "endlinecolor": "#2a3f5f",
             "gridcolor": "white",
             "linecolor": "white",
             "minorgridcolor": "white",
             "startlinecolor": "#2a3f5f"
            },
            "type": "carpet"
           }
          ],
          "choropleth": [
           {
            "colorbar": {
             "outlinewidth": 0,
             "ticks": ""
            },
            "type": "choropleth"
           }
          ],
          "contour": [
           {
            "colorbar": {
             "outlinewidth": 0,
             "ticks": ""
            },
            "colorscale": [
             [
              0,
              "#0d0887"
             ],
             [
              0.1111111111111111,
              "#46039f"
             ],
             [
              0.2222222222222222,
              "#7201a8"
             ],
             [
              0.3333333333333333,
              "#9c179e"
             ],
             [
              0.4444444444444444,
              "#bd3786"
             ],
             [
              0.5555555555555556,
              "#d8576b"
             ],
             [
              0.6666666666666666,
              "#ed7953"
             ],
             [
              0.7777777777777778,
              "#fb9f3a"
             ],
             [
              0.8888888888888888,
              "#fdca26"
             ],
             [
              1,
              "#f0f921"
             ]
            ],
            "type": "contour"
           }
          ],
          "contourcarpet": [
           {
            "colorbar": {
             "outlinewidth": 0,
             "ticks": ""
            },
            "type": "contourcarpet"
           }
          ],
          "heatmap": [
           {
            "colorbar": {
             "outlinewidth": 0,
             "ticks": ""
            },
            "colorscale": [
             [
              0,
              "#0d0887"
             ],
             [
              0.1111111111111111,
              "#46039f"
             ],
             [
              0.2222222222222222,
              "#7201a8"
             ],
             [
              0.3333333333333333,
              "#9c179e"
             ],
             [
              0.4444444444444444,
              "#bd3786"
             ],
             [
              0.5555555555555556,
              "#d8576b"
             ],
             [
              0.6666666666666666,
              "#ed7953"
             ],
             [
              0.7777777777777778,
              "#fb9f3a"
             ],
             [
              0.8888888888888888,
              "#fdca26"
             ],
             [
              1,
              "#f0f921"
             ]
            ],
            "type": "heatmap"
           }
          ],
          "heatmapgl": [
           {
            "colorbar": {
             "outlinewidth": 0,
             "ticks": ""
            },
            "colorscale": [
             [
              0,
              "#0d0887"
             ],
             [
              0.1111111111111111,
              "#46039f"
             ],
             [
              0.2222222222222222,
              "#7201a8"
             ],
             [
              0.3333333333333333,
              "#9c179e"
             ],
             [
              0.4444444444444444,
              "#bd3786"
             ],
             [
              0.5555555555555556,
              "#d8576b"
             ],
             [
              0.6666666666666666,
              "#ed7953"
             ],
             [
              0.7777777777777778,
              "#fb9f3a"
             ],
             [
              0.8888888888888888,
              "#fdca26"
             ],
             [
              1,
              "#f0f921"
             ]
            ],
            "type": "heatmapgl"
           }
          ],
          "histogram": [
           {
            "marker": {
             "colorbar": {
              "outlinewidth": 0,
              "ticks": ""
             }
            },
            "type": "histogram"
           }
          ],
          "histogram2d": [
           {
            "colorbar": {
             "outlinewidth": 0,
             "ticks": ""
            },
            "colorscale": [
             [
              0,
              "#0d0887"
             ],
             [
              0.1111111111111111,
              "#46039f"
             ],
             [
              0.2222222222222222,
              "#7201a8"
             ],
             [
              0.3333333333333333,
              "#9c179e"
             ],
             [
              0.4444444444444444,
              "#bd3786"
             ],
             [
              0.5555555555555556,
              "#d8576b"
             ],
             [
              0.6666666666666666,
              "#ed7953"
             ],
             [
              0.7777777777777778,
              "#fb9f3a"
             ],
             [
              0.8888888888888888,
              "#fdca26"
             ],
             [
              1,
              "#f0f921"
             ]
            ],
            "type": "histogram2d"
           }
          ],
          "histogram2dcontour": [
           {
            "colorbar": {
             "outlinewidth": 0,
             "ticks": ""
            },
            "colorscale": [
             [
              0,
              "#0d0887"
             ],
             [
              0.1111111111111111,
              "#46039f"
             ],
             [
              0.2222222222222222,
              "#7201a8"
             ],
             [
              0.3333333333333333,
              "#9c179e"
             ],
             [
              0.4444444444444444,
              "#bd3786"
             ],
             [
              0.5555555555555556,
              "#d8576b"
             ],
             [
              0.6666666666666666,
              "#ed7953"
             ],
             [
              0.7777777777777778,
              "#fb9f3a"
             ],
             [
              0.8888888888888888,
              "#fdca26"
             ],
             [
              1,
              "#f0f921"
             ]
            ],
            "type": "histogram2dcontour"
           }
          ],
          "mesh3d": [
           {
            "colorbar": {
             "outlinewidth": 0,
             "ticks": ""
            },
            "type": "mesh3d"
           }
          ],
          "parcoords": [
           {
            "line": {
             "colorbar": {
              "outlinewidth": 0,
              "ticks": ""
             }
            },
            "type": "parcoords"
           }
          ],
          "pie": [
           {
            "automargin": true,
            "type": "pie"
           }
          ],
          "scatter": [
           {
            "marker": {
             "colorbar": {
              "outlinewidth": 0,
              "ticks": ""
             }
            },
            "type": "scatter"
           }
          ],
          "scatter3d": [
           {
            "line": {
             "colorbar": {
              "outlinewidth": 0,
              "ticks": ""
             }
            },
            "marker": {
             "colorbar": {
              "outlinewidth": 0,
              "ticks": ""
             }
            },
            "type": "scatter3d"
           }
          ],
          "scattercarpet": [
           {
            "marker": {
             "colorbar": {
              "outlinewidth": 0,
              "ticks": ""
             }
            },
            "type": "scattercarpet"
           }
          ],
          "scattergeo": [
           {
            "marker": {
             "colorbar": {
              "outlinewidth": 0,
              "ticks": ""
             }
            },
            "type": "scattergeo"
           }
          ],
          "scattergl": [
           {
            "marker": {
             "colorbar": {
              "outlinewidth": 0,
              "ticks": ""
             }
            },
            "type": "scattergl"
           }
          ],
          "scattermapbox": [
           {
            "marker": {
             "colorbar": {
              "outlinewidth": 0,
              "ticks": ""
             }
            },
            "type": "scattermapbox"
           }
          ],
          "scatterpolar": [
           {
            "marker": {
             "colorbar": {
              "outlinewidth": 0,
              "ticks": ""
             }
            },
            "type": "scatterpolar"
           }
          ],
          "scatterpolargl": [
           {
            "marker": {
             "colorbar": {
              "outlinewidth": 0,
              "ticks": ""
             }
            },
            "type": "scatterpolargl"
           }
          ],
          "scatterternary": [
           {
            "marker": {
             "colorbar": {
              "outlinewidth": 0,
              "ticks": ""
             }
            },
            "type": "scatterternary"
           }
          ],
          "surface": [
           {
            "colorbar": {
             "outlinewidth": 0,
             "ticks": ""
            },
            "colorscale": [
             [
              0,
              "#0d0887"
             ],
             [
              0.1111111111111111,
              "#46039f"
             ],
             [
              0.2222222222222222,
              "#7201a8"
             ],
             [
              0.3333333333333333,
              "#9c179e"
             ],
             [
              0.4444444444444444,
              "#bd3786"
             ],
             [
              0.5555555555555556,
              "#d8576b"
             ],
             [
              0.6666666666666666,
              "#ed7953"
             ],
             [
              0.7777777777777778,
              "#fb9f3a"
             ],
             [
              0.8888888888888888,
              "#fdca26"
             ],
             [
              1,
              "#f0f921"
             ]
            ],
            "type": "surface"
           }
          ],
          "table": [
           {
            "cells": {
             "fill": {
              "color": "#EBF0F8"
             },
             "line": {
              "color": "white"
             }
            },
            "header": {
             "fill": {
              "color": "#C8D4E3"
             },
             "line": {
              "color": "white"
             }
            },
            "type": "table"
           }
          ]
         },
         "layout": {
          "annotationdefaults": {
           "arrowcolor": "#2a3f5f",
           "arrowhead": 0,
           "arrowwidth": 1
          },
          "coloraxis": {
           "colorbar": {
            "outlinewidth": 0,
            "ticks": ""
           }
          },
          "colorscale": {
           "diverging": [
            [
             0,
             "#8e0152"
            ],
            [
             0.1,
             "#c51b7d"
            ],
            [
             0.2,
             "#de77ae"
            ],
            [
             0.3,
             "#f1b6da"
            ],
            [
             0.4,
             "#fde0ef"
            ],
            [
             0.5,
             "#f7f7f7"
            ],
            [
             0.6,
             "#e6f5d0"
            ],
            [
             0.7,
             "#b8e186"
            ],
            [
             0.8,
             "#7fbc41"
            ],
            [
             0.9,
             "#4d9221"
            ],
            [
             1,
             "#276419"
            ]
           ],
           "sequential": [
            [
             0,
             "#0d0887"
            ],
            [
             0.1111111111111111,
             "#46039f"
            ],
            [
             0.2222222222222222,
             "#7201a8"
            ],
            [
             0.3333333333333333,
             "#9c179e"
            ],
            [
             0.4444444444444444,
             "#bd3786"
            ],
            [
             0.5555555555555556,
             "#d8576b"
            ],
            [
             0.6666666666666666,
             "#ed7953"
            ],
            [
             0.7777777777777778,
             "#fb9f3a"
            ],
            [
             0.8888888888888888,
             "#fdca26"
            ],
            [
             1,
             "#f0f921"
            ]
           ],
           "sequentialminus": [
            [
             0,
             "#0d0887"
            ],
            [
             0.1111111111111111,
             "#46039f"
            ],
            [
             0.2222222222222222,
             "#7201a8"
            ],
            [
             0.3333333333333333,
             "#9c179e"
            ],
            [
             0.4444444444444444,
             "#bd3786"
            ],
            [
             0.5555555555555556,
             "#d8576b"
            ],
            [
             0.6666666666666666,
             "#ed7953"
            ],
            [
             0.7777777777777778,
             "#fb9f3a"
            ],
            [
             0.8888888888888888,
             "#fdca26"
            ],
            [
             1,
             "#f0f921"
            ]
           ]
          },
          "colorway": [
           "#636efa",
           "#EF553B",
           "#00cc96",
           "#ab63fa",
           "#FFA15A",
           "#19d3f3",
           "#FF6692",
           "#B6E880",
           "#FF97FF",
           "#FECB52"
          ],
          "font": {
           "color": "#2a3f5f"
          },
          "geo": {
           "bgcolor": "white",
           "lakecolor": "white",
           "landcolor": "#E5ECF6",
           "showlakes": true,
           "showland": true,
           "subunitcolor": "white"
          },
          "hoverlabel": {
           "align": "left"
          },
          "hovermode": "closest",
          "mapbox": {
           "style": "light"
          },
          "paper_bgcolor": "white",
          "plot_bgcolor": "#E5ECF6",
          "polar": {
           "angularaxis": {
            "gridcolor": "white",
            "linecolor": "white",
            "ticks": ""
           },
           "bgcolor": "#E5ECF6",
           "radialaxis": {
            "gridcolor": "white",
            "linecolor": "white",
            "ticks": ""
           }
          },
          "scene": {
           "xaxis": {
            "backgroundcolor": "#E5ECF6",
            "gridcolor": "white",
            "gridwidth": 2,
            "linecolor": "white",
            "showbackground": true,
            "ticks": "",
            "zerolinecolor": "white"
           },
           "yaxis": {
            "backgroundcolor": "#E5ECF6",
            "gridcolor": "white",
            "gridwidth": 2,
            "linecolor": "white",
            "showbackground": true,
            "ticks": "",
            "zerolinecolor": "white"
           },
           "zaxis": {
            "backgroundcolor": "#E5ECF6",
            "gridcolor": "white",
            "gridwidth": 2,
            "linecolor": "white",
            "showbackground": true,
            "ticks": "",
            "zerolinecolor": "white"
           }
          },
          "shapedefaults": {
           "line": {
            "color": "#2a3f5f"
           }
          },
          "ternary": {
           "aaxis": {
            "gridcolor": "white",
            "linecolor": "white",
            "ticks": ""
           },
           "baxis": {
            "gridcolor": "white",
            "linecolor": "white",
            "ticks": ""
           },
           "bgcolor": "#E5ECF6",
           "caxis": {
            "gridcolor": "white",
            "linecolor": "white",
            "ticks": ""
           }
          },
          "title": {
           "x": 0.05
          },
          "xaxis": {
           "automargin": true,
           "gridcolor": "white",
           "linecolor": "white",
           "ticks": "",
           "title": {
            "standoff": 15
           },
           "zerolinecolor": "white",
           "zerolinewidth": 2
          },
          "yaxis": {
           "automargin": true,
           "gridcolor": "white",
           "linecolor": "white",
           "ticks": "",
           "title": {
            "standoff": 15
           },
           "zerolinecolor": "white",
           "zerolinewidth": 2
          }
         }
        },
        "title": {
         "text": "Number of Coronavirus cases in selected countries"
        }
       }
      },
      "text/html": [
       "<div>\n",
       "        \n",
       "        \n",
       "            <div id=\"6f55fe0e-a877-4819-9989-0e806993e30f\" class=\"plotly-graph-div\" style=\"height:525px; width:100%;\"></div>\n",
       "            <script type=\"text/javascript\">\n",
       "                require([\"plotly\"], function(Plotly) {\n",
       "                    window.PLOTLYENV=window.PLOTLYENV || {};\n",
       "                    \n",
       "                if (document.getElementById(\"6f55fe0e-a877-4819-9989-0e806993e30f\")) {\n",
       "                    Plotly.newPlot(\n",
       "                        '6f55fe0e-a877-4819-9989-0e806993e30f',\n",
       "                        [{\"coloraxis\": \"coloraxis\", \"customdata\": [[60461826, 27980], [83783942, 7241], [65273511, 6633], [8654622, 2353], [17134872, 1413], [11589623, 1058], [9006398, 1018], [625978, 81]], \"geo\": \"geo\", \"hoverlabel\": {\"namelength\": 0}, \"hovertemplate\": \"<b>%{hovertext}</b><br><br>Population=%{customdata[0]}<br>Total cases=%{z}<br>Country=%{location}\", \"hovertext\": [\"ITA\", \"DEU\", \"FRA\", \"CHE\", \"NLD\", \"BEL\", \"AUT\", \"LUX\"], \"locations\": [\"ITA\", \"DEU\", \"FRA\", \"CHE\", \"NLD\", \"BEL\", \"AUT\", \"LUX\"], \"name\": \"\", \"type\": \"choropleth\", \"z\": [27980, 7241, 6633, 2353, 1413, 1058, 1018, 81]}],\n",
       "                        {\"coloraxis\": {\"colorbar\": {\"title\": {\"text\": \"Total cases\"}}, \"colorscale\": [[0.0, \"rgb(255,255,204)\"], [0.125, \"rgb(255,237,160)\"], [0.25, \"rgb(254,217,118)\"], [0.375, \"rgb(254,178,76)\"], [0.5, \"rgb(253,141,60)\"], [0.625, \"rgb(252,78,42)\"], [0.75, \"rgb(227,26,28)\"], [0.875, \"rgb(189,0,38)\"], [1.0, \"rgb(128,0,38)\"]]}, \"geo\": {\"center\": {}, \"domain\": {\"x\": [0.0, 1.0], \"y\": [0.0, 1.0]}, \"scope\": \"europe\"}, \"legend\": {\"tracegroupgap\": 0}, \"margin\": {\"t\": 60}, \"template\": {\"data\": {\"bar\": [{\"error_x\": {\"color\": \"#2a3f5f\"}, \"error_y\": {\"color\": \"#2a3f5f\"}, \"marker\": {\"line\": {\"color\": \"#E5ECF6\", \"width\": 0.5}}, \"type\": \"bar\"}], \"barpolar\": [{\"marker\": {\"line\": {\"color\": \"#E5ECF6\", \"width\": 0.5}}, \"type\": \"barpolar\"}], \"carpet\": [{\"aaxis\": {\"endlinecolor\": \"#2a3f5f\", \"gridcolor\": \"white\", \"linecolor\": \"white\", \"minorgridcolor\": \"white\", \"startlinecolor\": \"#2a3f5f\"}, \"baxis\": {\"endlinecolor\": \"#2a3f5f\", \"gridcolor\": \"white\", \"linecolor\": \"white\", \"minorgridcolor\": \"white\", \"startlinecolor\": \"#2a3f5f\"}, \"type\": \"carpet\"}], \"choropleth\": [{\"colorbar\": {\"outlinewidth\": 0, \"ticks\": \"\"}, \"type\": \"choropleth\"}], \"contour\": [{\"colorbar\": {\"outlinewidth\": 0, \"ticks\": \"\"}, \"colorscale\": [[0.0, \"#0d0887\"], [0.1111111111111111, \"#46039f\"], [0.2222222222222222, \"#7201a8\"], [0.3333333333333333, \"#9c179e\"], [0.4444444444444444, \"#bd3786\"], [0.5555555555555556, \"#d8576b\"], [0.6666666666666666, \"#ed7953\"], [0.7777777777777778, \"#fb9f3a\"], [0.8888888888888888, \"#fdca26\"], [1.0, \"#f0f921\"]], \"type\": \"contour\"}], \"contourcarpet\": [{\"colorbar\": {\"outlinewidth\": 0, \"ticks\": \"\"}, \"type\": \"contourcarpet\"}], \"heatmap\": [{\"colorbar\": {\"outlinewidth\": 0, \"ticks\": \"\"}, \"colorscale\": [[0.0, \"#0d0887\"], [0.1111111111111111, \"#46039f\"], [0.2222222222222222, \"#7201a8\"], [0.3333333333333333, \"#9c179e\"], [0.4444444444444444, \"#bd3786\"], [0.5555555555555556, \"#d8576b\"], [0.6666666666666666, \"#ed7953\"], [0.7777777777777778, \"#fb9f3a\"], [0.8888888888888888, \"#fdca26\"], [1.0, \"#f0f921\"]], \"type\": \"heatmap\"}], \"heatmapgl\": [{\"colorbar\": {\"outlinewidth\": 0, \"ticks\": \"\"}, \"colorscale\": [[0.0, \"#0d0887\"], [0.1111111111111111, \"#46039f\"], [0.2222222222222222, \"#7201a8\"], [0.3333333333333333, \"#9c179e\"], [0.4444444444444444, \"#bd3786\"], [0.5555555555555556, \"#d8576b\"], [0.6666666666666666, \"#ed7953\"], [0.7777777777777778, \"#fb9f3a\"], [0.8888888888888888, \"#fdca26\"], [1.0, \"#f0f921\"]], \"type\": \"heatmapgl\"}], \"histogram\": [{\"marker\": {\"colorbar\": {\"outlinewidth\": 0, \"ticks\": \"\"}}, \"type\": \"histogram\"}], \"histogram2d\": [{\"colorbar\": {\"outlinewidth\": 0, \"ticks\": \"\"}, \"colorscale\": [[0.0, \"#0d0887\"], [0.1111111111111111, \"#46039f\"], [0.2222222222222222, \"#7201a8\"], [0.3333333333333333, \"#9c179e\"], [0.4444444444444444, \"#bd3786\"], [0.5555555555555556, \"#d8576b\"], [0.6666666666666666, \"#ed7953\"], [0.7777777777777778, \"#fb9f3a\"], [0.8888888888888888, \"#fdca26\"], [1.0, \"#f0f921\"]], \"type\": \"histogram2d\"}], \"histogram2dcontour\": [{\"colorbar\": {\"outlinewidth\": 0, \"ticks\": \"\"}, \"colorscale\": [[0.0, \"#0d0887\"], [0.1111111111111111, \"#46039f\"], [0.2222222222222222, \"#7201a8\"], [0.3333333333333333, \"#9c179e\"], [0.4444444444444444, \"#bd3786\"], [0.5555555555555556, \"#d8576b\"], [0.6666666666666666, \"#ed7953\"], [0.7777777777777778, \"#fb9f3a\"], [0.8888888888888888, \"#fdca26\"], [1.0, \"#f0f921\"]], \"type\": \"histogram2dcontour\"}], \"mesh3d\": [{\"colorbar\": {\"outlinewidth\": 0, \"ticks\": \"\"}, \"type\": \"mesh3d\"}], \"parcoords\": [{\"line\": {\"colorbar\": {\"outlinewidth\": 0, \"ticks\": \"\"}}, \"type\": \"parcoords\"}], \"pie\": [{\"automargin\": true, \"type\": \"pie\"}], \"scatter\": [{\"marker\": {\"colorbar\": {\"outlinewidth\": 0, \"ticks\": \"\"}}, \"type\": \"scatter\"}], \"scatter3d\": [{\"line\": {\"colorbar\": {\"outlinewidth\": 0, \"ticks\": \"\"}}, \"marker\": {\"colorbar\": {\"outlinewidth\": 0, \"ticks\": \"\"}}, \"type\": \"scatter3d\"}], \"scattercarpet\": [{\"marker\": {\"colorbar\": {\"outlinewidth\": 0, \"ticks\": \"\"}}, \"type\": \"scattercarpet\"}], \"scattergeo\": [{\"marker\": {\"colorbar\": {\"outlinewidth\": 0, \"ticks\": \"\"}}, \"type\": \"scattergeo\"}], \"scattergl\": [{\"marker\": {\"colorbar\": {\"outlinewidth\": 0, \"ticks\": \"\"}}, \"type\": \"scattergl\"}], \"scattermapbox\": [{\"marker\": {\"colorbar\": {\"outlinewidth\": 0, \"ticks\": \"\"}}, \"type\": \"scattermapbox\"}], \"scatterpolar\": [{\"marker\": {\"colorbar\": {\"outlinewidth\": 0, \"ticks\": \"\"}}, \"type\": \"scatterpolar\"}], \"scatterpolargl\": [{\"marker\": {\"colorbar\": {\"outlinewidth\": 0, \"ticks\": \"\"}}, \"type\": \"scatterpolargl\"}], \"scatterternary\": [{\"marker\": {\"colorbar\": {\"outlinewidth\": 0, \"ticks\": \"\"}}, \"type\": \"scatterternary\"}], \"surface\": [{\"colorbar\": {\"outlinewidth\": 0, \"ticks\": \"\"}, \"colorscale\": [[0.0, \"#0d0887\"], [0.1111111111111111, \"#46039f\"], [0.2222222222222222, \"#7201a8\"], [0.3333333333333333, \"#9c179e\"], [0.4444444444444444, \"#bd3786\"], [0.5555555555555556, \"#d8576b\"], [0.6666666666666666, \"#ed7953\"], [0.7777777777777778, \"#fb9f3a\"], [0.8888888888888888, \"#fdca26\"], [1.0, \"#f0f921\"]], \"type\": \"surface\"}], \"table\": [{\"cells\": {\"fill\": {\"color\": \"#EBF0F8\"}, \"line\": {\"color\": \"white\"}}, \"header\": {\"fill\": {\"color\": \"#C8D4E3\"}, \"line\": {\"color\": \"white\"}}, \"type\": \"table\"}]}, \"layout\": {\"annotationdefaults\": {\"arrowcolor\": \"#2a3f5f\", \"arrowhead\": 0, \"arrowwidth\": 1}, \"coloraxis\": {\"colorbar\": {\"outlinewidth\": 0, \"ticks\": \"\"}}, \"colorscale\": {\"diverging\": [[0, \"#8e0152\"], [0.1, \"#c51b7d\"], [0.2, \"#de77ae\"], [0.3, \"#f1b6da\"], [0.4, \"#fde0ef\"], [0.5, \"#f7f7f7\"], [0.6, \"#e6f5d0\"], [0.7, \"#b8e186\"], [0.8, \"#7fbc41\"], [0.9, \"#4d9221\"], [1, \"#276419\"]], \"sequential\": [[0.0, \"#0d0887\"], [0.1111111111111111, \"#46039f\"], [0.2222222222222222, \"#7201a8\"], [0.3333333333333333, \"#9c179e\"], [0.4444444444444444, \"#bd3786\"], [0.5555555555555556, \"#d8576b\"], [0.6666666666666666, \"#ed7953\"], [0.7777777777777778, \"#fb9f3a\"], [0.8888888888888888, \"#fdca26\"], [1.0, \"#f0f921\"]], \"sequentialminus\": [[0.0, \"#0d0887\"], [0.1111111111111111, \"#46039f\"], [0.2222222222222222, \"#7201a8\"], [0.3333333333333333, \"#9c179e\"], [0.4444444444444444, \"#bd3786\"], [0.5555555555555556, \"#d8576b\"], [0.6666666666666666, \"#ed7953\"], [0.7777777777777778, \"#fb9f3a\"], [0.8888888888888888, \"#fdca26\"], [1.0, \"#f0f921\"]]}, \"colorway\": [\"#636efa\", \"#EF553B\", \"#00cc96\", \"#ab63fa\", \"#FFA15A\", \"#19d3f3\", \"#FF6692\", \"#B6E880\", \"#FF97FF\", \"#FECB52\"], \"font\": {\"color\": \"#2a3f5f\"}, \"geo\": {\"bgcolor\": \"white\", \"lakecolor\": \"white\", \"landcolor\": \"#E5ECF6\", \"showlakes\": true, \"showland\": true, \"subunitcolor\": \"white\"}, \"hoverlabel\": {\"align\": \"left\"}, \"hovermode\": \"closest\", \"mapbox\": {\"style\": \"light\"}, \"paper_bgcolor\": \"white\", \"plot_bgcolor\": \"#E5ECF6\", \"polar\": {\"angularaxis\": {\"gridcolor\": \"white\", \"linecolor\": \"white\", \"ticks\": \"\"}, \"bgcolor\": \"#E5ECF6\", \"radialaxis\": {\"gridcolor\": \"white\", \"linecolor\": \"white\", \"ticks\": \"\"}}, \"scene\": {\"xaxis\": {\"backgroundcolor\": \"#E5ECF6\", \"gridcolor\": \"white\", \"gridwidth\": 2, \"linecolor\": \"white\", \"showbackground\": true, \"ticks\": \"\", \"zerolinecolor\": \"white\"}, \"yaxis\": {\"backgroundcolor\": \"#E5ECF6\", \"gridcolor\": \"white\", \"gridwidth\": 2, \"linecolor\": \"white\", \"showbackground\": true, \"ticks\": \"\", \"zerolinecolor\": \"white\"}, \"zaxis\": {\"backgroundcolor\": \"#E5ECF6\", \"gridcolor\": \"white\", \"gridwidth\": 2, \"linecolor\": \"white\", \"showbackground\": true, \"ticks\": \"\", \"zerolinecolor\": \"white\"}}, \"shapedefaults\": {\"line\": {\"color\": \"#2a3f5f\"}}, \"ternary\": {\"aaxis\": {\"gridcolor\": \"white\", \"linecolor\": \"white\", \"ticks\": \"\"}, \"baxis\": {\"gridcolor\": \"white\", \"linecolor\": \"white\", \"ticks\": \"\"}, \"bgcolor\": \"#E5ECF6\", \"caxis\": {\"gridcolor\": \"white\", \"linecolor\": \"white\", \"ticks\": \"\"}}, \"title\": {\"x\": 0.05}, \"xaxis\": {\"automargin\": true, \"gridcolor\": \"white\", \"linecolor\": \"white\", \"ticks\": \"\", \"title\": {\"standoff\": 15}, \"zerolinecolor\": \"white\", \"zerolinewidth\": 2}, \"yaxis\": {\"automargin\": true, \"gridcolor\": \"white\", \"linecolor\": \"white\", \"ticks\": \"\", \"title\": {\"standoff\": 15}, \"zerolinecolor\": \"white\", \"zerolinewidth\": 2}}}, \"title\": {\"text\": \"Number of Coronavirus cases in selected countries\"}},\n",
       "                        {\"responsive\": true}\n",
       "                    ).then(function(){\n",
       "                            \n",
       "var gd = document.getElementById('6f55fe0e-a877-4819-9989-0e806993e30f');\n",
       "var x = new MutationObserver(function (mutations, observer) {{\n",
       "        var display = window.getComputedStyle(gd).display;\n",
       "        if (!display || display === 'none') {{\n",
       "            console.log([gd, 'removed!']);\n",
       "            Plotly.purge(gd);\n",
       "            observer.disconnect();\n",
       "        }}\n",
       "}});\n",
       "\n",
       "// Listen for the removal of the full notebook cells\n",
       "var notebookContainer = gd.closest('#notebook-container');\n",
       "if (notebookContainer) {{\n",
       "    x.observe(notebookContainer, {childList: true});\n",
       "}}\n",
       "\n",
       "// Listen for the clearing of the current output cell\n",
       "var outputEl = gd.closest('.output');\n",
       "if (outputEl) {{\n",
       "    x.observe(outputEl, {childList: true});\n",
       "}}\n",
       "\n",
       "                        })\n",
       "                };\n",
       "                });\n",
       "            </script>\n",
       "        </div>"
      ]
     },
     "metadata": {},
     "output_type": "display_data"
    }
   ],
   "source": [
    "# Create chart 5: Number of Coronavirus cases in selected countries\n",
    "df_eu_part = corona_eu_part.copy()\n",
    "df_eu_part[\"Country\"] = [\"FRA\", \"DEU\", \"ITA\", \"CHE\", \"LUX\", \"BEL\", \"NLD\", \"AUT\"]\n",
    "df_eu_part[\"Total cases / 1M pop.\"] = (df_eu_part[\"Total cases\"] / (df_eu_part[\"Population\"]/1000000)).round(1) \n",
    "df_eu_part = df_eu_part.sort_values(by=['Total cases'], ascending=False)\n",
    "\n",
    "fig = px.choropleth(df_eu_part, \n",
    "                    locations='Country', \n",
    "                    color='Total cases',\n",
    "                    #color_discrete_sequence=[\"#00CC93\", \"#636EFA\", \"#EF553B\"],\n",
    "                    color_continuous_scale=\"YlOrRd\",\n",
    "                    scope=\"europe\",\n",
    "                    hover_name=\"Country\",\n",
    "                    hover_data = [\"Population\", \"Total cases\"]\n",
    "                    )\n",
    "fig.update_layout(\n",
    "    title_text = \"Number of Coronavirus cases in selected countries\"\n",
    "                 )\n",
    "    \n",
    "fig.show()"
   ]
  }
 ],
 "metadata": {
  "kernelspec": {
   "display_name": "Python 3",
   "language": "python",
   "name": "python3"
  },
  "language_info": {
   "codemirror_mode": {
    "name": "ipython",
    "version": 3
   },
   "file_extension": ".py",
   "mimetype": "text/x-python",
   "name": "python",
   "nbconvert_exporter": "python",
   "pygments_lexer": "ipython3",
   "version": "3.7.6"
  }
 },
 "nbformat": 4,
 "nbformat_minor": 2
}
